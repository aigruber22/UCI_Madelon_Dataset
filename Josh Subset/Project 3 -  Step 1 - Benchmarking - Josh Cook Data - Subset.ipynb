{
 "cells": [
  {
   "cell_type": "markdown",
   "metadata": {},
   "source": [
    "## Benchmarking Results ##"
   ]
  },
  {
   "cell_type": "markdown",
   "metadata": {},
   "source": [
    "***Description of Notebook:***\n",
    "\n",
    "Built naive models to get a prediction benchmark for our classification problem. The models used are:\n",
    "\n",
    "1. Logistic Regression\n",
    "2. Decision Tree Classifier\n",
    "3. K Nearest Neighbors\n",
    "4. Support Vector Classifier\n",
    "\n",
    "The best performing model was a close race between Decision Tree Classifier and Support Vector Classifier.\n",
    "\n",
    "Decision Tree Classifier had an ROC AUC Score of .629 and Log Loss of 12.821.\n",
    "\n",
    "Support Vector Classifier had an ROC AUC Score of .624 and Log Loss of 12.978."
   ]
  },
  {
   "cell_type": "markdown",
   "metadata": {},
   "source": [
    "### Results"
   ]
  },
  {
   "cell_type": "markdown",
   "metadata": {},
   "source": [
    "**Logistic Regression:**"
   ]
  },
  {
   "cell_type": "markdown",
   "metadata": {},
   "source": [
    "*ROC AUC Score:* 0.539\n",
    "\n",
    "*Log Loss:* 15.909"
   ]
  },
  {
   "cell_type": "markdown",
   "metadata": {},
   "source": [
    "**Decision Tree Classifier:**"
   ]
  },
  {
   "cell_type": "markdown",
   "metadata": {},
   "source": [
    "*ROC AUC Score:* 0.629\n",
    "\n",
    "*Log Loss:* 12.821"
   ]
  },
  {
   "cell_type": "markdown",
   "metadata": {},
   "source": [
    "**K Nearest Neighbors:**"
   ]
  },
  {
   "cell_type": "markdown",
   "metadata": {},
   "source": [
    "*ROC AUC Score:* 0.600\n",
    "\n",
    "*Log Loss:* 13.816"
   ]
  },
  {
   "cell_type": "markdown",
   "metadata": {},
   "source": [
    "**Support Vector Classifier:**"
   ]
  },
  {
   "cell_type": "markdown",
   "metadata": {},
   "source": [
    "*ROC AUC Score:* 0.624\n",
    "\n",
    "*Log Loss:* 12.978"
   ]
  },
  {
   "cell_type": "markdown",
   "metadata": {},
   "source": [
    "## Benchmarking Code ##"
   ]
  },
  {
   "cell_type": "markdown",
   "metadata": {},
   "source": [
    "** Data Import **"
   ]
  },
  {
   "cell_type": "code",
   "execution_count": 1,
   "metadata": {},
   "outputs": [
    {
     "name": "stdout",
     "output_type": "stream",
     "text": [
      "Fetching package metadata ...........\n",
      "Solving package specifications: .\n",
      "\n",
      "Package plan for installation in environment /opt/conda:\n",
      "\n",
      "The following packages will be UPDATED:\n",
      "\n",
      "    psycopg2: 2.7.3.1-py36_0 conda-forge --> 2.7.3.2-py36_0 conda-forge\n",
      "\n",
      "psycopg2-2.7.3 100% |################################| Time: 0:00:00 972.03 kB/s\n"
     ]
    }
   ],
   "source": [
    "!conda install psycopg2 --yes"
   ]
  },
  {
   "cell_type": "code",
   "execution_count": 2,
   "metadata": {},
   "outputs": [],
   "source": [
    "import psycopg2 as pg2\n",
    "from psycopg2.extras import RealDictCursor\n",
    "import matplotlib.pyplot as plt\n",
    "import pandas as pd\n",
    "import numpy as np\n",
    "import seaborn as sns\n",
    "%matplotlib inline\n",
    "from sklearn.model_selection import train_test_split\n",
    "from sklearn.linear_model import LogisticRegression\n",
    "from sklearn.tree import DecisionTreeClassifier\n",
    "from sklearn.neighbors import KNeighborsClassifier\n",
    "from sklearn.svm import SVC\n",
    "from sklearn.metrics import roc_auc_score, classification_report, accuracy_score, log_loss"
   ]
  },
  {
   "cell_type": "markdown",
   "metadata": {},
   "source": [
    "** Data Import **"
   ]
  },
  {
   "cell_type": "markdown",
   "metadata": {},
   "source": [
    "Database connection to read in Josh's data"
   ]
  },
  {
   "cell_type": "code",
   "execution_count": 14,
   "metadata": {},
   "outputs": [],
   "source": [
    "con = pg2.connect(host='34.211.227.227',\n",
    "                  dbname='postgres',\n",
    "                  user='postgres')\n",
    "cur = con.cursor(cursor_factory=RealDictCursor)\n",
    "cur.execute('SELECT * FROM madelon WHERE _id BETWEEN 0 AND 6599;')\n",
    "results = cur.fetchall()\n",
    "con.close()"
   ]
  },
  {
   "cell_type": "code",
   "execution_count": null,
   "metadata": {},
   "outputs": [],
   "source": [
    "# con = pg2.connect(host='34.211.227.227',\n",
    "#                   dbname='postgres',\n",
    "#                   user='postgres')\n",
    "# cur = con.cursor(cursor_factory=RealDictCursor)\n",
    "# cur.execute('SELECT * FROM madelon WHERE _id BETWEEN 6600 AND 13199;')\n",
    "# results = cur.fetchall()\n",
    "# con.close()"
   ]
  },
  {
   "cell_type": "code",
   "execution_count": null,
   "metadata": {},
   "outputs": [],
   "source": [
    "# con = pg2.connect(host='34.211.227.227',\n",
    "#                   dbname='postgres',\n",
    "#                   user='postgres')\n",
    "# cur = con.cursor(cursor_factory=RealDictCursor)\n",
    "# cur.execute('SELECT * FROM madelon WHERE _id BETWEEN 13200 AND 19799;')\n",
    "# results = cur.fetchall()\n",
    "# con.close()"
   ]
  },
  {
   "cell_type": "code",
   "execution_count": 18,
   "metadata": {},
   "outputs": [],
   "source": [
    "cook_df_1 = pd.DataFrame(results)\n",
    "# cook_df_2 = pd.DataFrame(results)\n",
    "# cook_df_3 = pd.DataFrame(results)"
   ]
  },
  {
   "cell_type": "code",
   "execution_count": 19,
   "metadata": {},
   "outputs": [
    {
     "data": {
      "text/html": [
       "<div>\n",
       "<table border=\"1\" class=\"dataframe\">\n",
       "  <thead>\n",
       "    <tr style=\"text-align: right;\">\n",
       "      <th></th>\n",
       "      <th>_id</th>\n",
       "      <th>feat_000</th>\n",
       "      <th>feat_001</th>\n",
       "      <th>feat_002</th>\n",
       "      <th>feat_003</th>\n",
       "      <th>feat_004</th>\n",
       "      <th>feat_005</th>\n",
       "      <th>feat_006</th>\n",
       "      <th>feat_007</th>\n",
       "      <th>feat_008</th>\n",
       "      <th>...</th>\n",
       "      <th>feat_991</th>\n",
       "      <th>feat_992</th>\n",
       "      <th>feat_993</th>\n",
       "      <th>feat_994</th>\n",
       "      <th>feat_995</th>\n",
       "      <th>feat_996</th>\n",
       "      <th>feat_997</th>\n",
       "      <th>feat_998</th>\n",
       "      <th>feat_999</th>\n",
       "      <th>target</th>\n",
       "    </tr>\n",
       "  </thead>\n",
       "  <tbody>\n",
       "    <tr>\n",
       "      <th>0</th>\n",
       "      <td>0</td>\n",
       "      <td>-0.679428</td>\n",
       "      <td>-0.184313</td>\n",
       "      <td>1.841026</td>\n",
       "      <td>-1.212077</td>\n",
       "      <td>-1.472139</td>\n",
       "      <td>0.010865</td>\n",
       "      <td>0.714700</td>\n",
       "      <td>-0.987905</td>\n",
       "      <td>1.206416</td>\n",
       "      <td>...</td>\n",
       "      <td>-0.491755</td>\n",
       "      <td>-0.868924</td>\n",
       "      <td>-1.418340</td>\n",
       "      <td>1.058468</td>\n",
       "      <td>-0.234507</td>\n",
       "      <td>-0.315312</td>\n",
       "      <td>0.411613</td>\n",
       "      <td>1.287231</td>\n",
       "      <td>1.194678</td>\n",
       "      <td>0</td>\n",
       "    </tr>\n",
       "    <tr>\n",
       "      <th>1</th>\n",
       "      <td>1</td>\n",
       "      <td>0.150712</td>\n",
       "      <td>0.698544</td>\n",
       "      <td>-0.994987</td>\n",
       "      <td>0.389926</td>\n",
       "      <td>0.333144</td>\n",
       "      <td>-0.396281</td>\n",
       "      <td>-2.188077</td>\n",
       "      <td>0.427875</td>\n",
       "      <td>0.802195</td>\n",
       "      <td>...</td>\n",
       "      <td>-1.109670</td>\n",
       "      <td>1.519362</td>\n",
       "      <td>-1.157226</td>\n",
       "      <td>-0.025068</td>\n",
       "      <td>1.389710</td>\n",
       "      <td>0.546423</td>\n",
       "      <td>-0.499608</td>\n",
       "      <td>1.213644</td>\n",
       "      <td>-0.220163</td>\n",
       "      <td>1</td>\n",
       "    </tr>\n",
       "    <tr>\n",
       "      <th>2</th>\n",
       "      <td>2</td>\n",
       "      <td>-1.357123</td>\n",
       "      <td>-2.082060</td>\n",
       "      <td>1.903423</td>\n",
       "      <td>0.223738</td>\n",
       "      <td>-0.389684</td>\n",
       "      <td>1.291080</td>\n",
       "      <td>-0.523464</td>\n",
       "      <td>0.305309</td>\n",
       "      <td>1.368030</td>\n",
       "      <td>...</td>\n",
       "      <td>1.155164</td>\n",
       "      <td>0.081404</td>\n",
       "      <td>-0.824899</td>\n",
       "      <td>-0.856366</td>\n",
       "      <td>1.271390</td>\n",
       "      <td>-1.263599</td>\n",
       "      <td>1.437224</td>\n",
       "      <td>0.636419</td>\n",
       "      <td>0.139863</td>\n",
       "      <td>1</td>\n",
       "    </tr>\n",
       "    <tr>\n",
       "      <th>3</th>\n",
       "      <td>3</td>\n",
       "      <td>0.717731</td>\n",
       "      <td>-0.125490</td>\n",
       "      <td>0.366056</td>\n",
       "      <td>-1.624306</td>\n",
       "      <td>-0.710490</td>\n",
       "      <td>-1.141389</td>\n",
       "      <td>-0.034528</td>\n",
       "      <td>-1.023395</td>\n",
       "      <td>0.587004</td>\n",
       "      <td>...</td>\n",
       "      <td>-1.788001</td>\n",
       "      <td>-0.862344</td>\n",
       "      <td>-1.938300</td>\n",
       "      <td>1.528354</td>\n",
       "      <td>-2.054189</td>\n",
       "      <td>-0.050716</td>\n",
       "      <td>-1.112139</td>\n",
       "      <td>-1.144790</td>\n",
       "      <td>1.462363</td>\n",
       "      <td>0</td>\n",
       "    </tr>\n",
       "    <tr>\n",
       "      <th>4</th>\n",
       "      <td>4</td>\n",
       "      <td>-2.056765</td>\n",
       "      <td>-1.188354</td>\n",
       "      <td>0.147163</td>\n",
       "      <td>-0.007732</td>\n",
       "      <td>-0.057824</td>\n",
       "      <td>0.480209</td>\n",
       "      <td>-0.067577</td>\n",
       "      <td>0.680607</td>\n",
       "      <td>0.390830</td>\n",
       "      <td>...</td>\n",
       "      <td>0.057895</td>\n",
       "      <td>1.581505</td>\n",
       "      <td>0.976392</td>\n",
       "      <td>-0.220416</td>\n",
       "      <td>1.659178</td>\n",
       "      <td>1.686492</td>\n",
       "      <td>-2.091279</td>\n",
       "      <td>-1.469088</td>\n",
       "      <td>-0.890519</td>\n",
       "      <td>0</td>\n",
       "    </tr>\n",
       "  </tbody>\n",
       "</table>\n",
       "<p>5 rows × 1002 columns</p>\n",
       "</div>"
      ],
      "text/plain": [
       "   _id  feat_000  feat_001  feat_002  feat_003  feat_004  feat_005  feat_006  \\\n",
       "0    0 -0.679428 -0.184313  1.841026 -1.212077 -1.472139  0.010865  0.714700   \n",
       "1    1  0.150712  0.698544 -0.994987  0.389926  0.333144 -0.396281 -2.188077   \n",
       "2    2 -1.357123 -2.082060  1.903423  0.223738 -0.389684  1.291080 -0.523464   \n",
       "3    3  0.717731 -0.125490  0.366056 -1.624306 -0.710490 -1.141389 -0.034528   \n",
       "4    4 -2.056765 -1.188354  0.147163 -0.007732 -0.057824  0.480209 -0.067577   \n",
       "\n",
       "   feat_007  feat_008   ...    feat_991  feat_992  feat_993  feat_994  \\\n",
       "0 -0.987905  1.206416   ...   -0.491755 -0.868924 -1.418340  1.058468   \n",
       "1  0.427875  0.802195   ...   -1.109670  1.519362 -1.157226 -0.025068   \n",
       "2  0.305309  1.368030   ...    1.155164  0.081404 -0.824899 -0.856366   \n",
       "3 -1.023395  0.587004   ...   -1.788001 -0.862344 -1.938300  1.528354   \n",
       "4  0.680607  0.390830   ...    0.057895  1.581505  0.976392 -0.220416   \n",
       "\n",
       "   feat_995  feat_996  feat_997  feat_998  feat_999  target  \n",
       "0 -0.234507 -0.315312  0.411613  1.287231  1.194678       0  \n",
       "1  1.389710  0.546423 -0.499608  1.213644 -0.220163       1  \n",
       "2  1.271390 -1.263599  1.437224  0.636419  0.139863       1  \n",
       "3 -2.054189 -0.050716 -1.112139 -1.144790  1.462363       0  \n",
       "4  1.659178  1.686492 -2.091279 -1.469088 -0.890519       0  \n",
       "\n",
       "[5 rows x 1002 columns]"
      ]
     },
     "execution_count": 19,
     "metadata": {},
     "output_type": "execute_result"
    }
   ],
   "source": [
    "cook_df_1.head()\n",
    "# cook_df_2.head()\n",
    "# cook_df_3.head()"
   ]
  },
  {
   "cell_type": "code",
   "execution_count": 36,
   "metadata": {},
   "outputs": [],
   "source": [
    "cook_df_1.set_index('_id', inplace = True)\n",
    "# cook_df_2.set_index('_id', inplace = True)\n",
    "# cook_df_3.set_index('_id', inplace = True)"
   ]
  },
  {
   "cell_type": "markdown",
   "metadata": {},
   "source": [
    "** Select the data set to use in work flow here. **"
   ]
  },
  {
   "cell_type": "code",
   "execution_count": 37,
   "metadata": {},
   "outputs": [],
   "source": [
    "df = cook_df_1.copy()\n",
    "df = cook_df_2.copy()\n",
    "df = cook_df_3.copy()"
   ]
  },
  {
   "cell_type": "code",
   "execution_count": 39,
   "metadata": {},
   "outputs": [
    {
     "data": {
      "text/plain": [
       "(6600, 1001)"
      ]
     },
     "execution_count": 39,
     "metadata": {},
     "output_type": "execute_result"
    }
   ],
   "source": [
    "df.shape"
   ]
  },
  {
   "cell_type": "markdown",
   "metadata": {},
   "source": [
    "# Step 1 - Benchmarking #"
   ]
  },
  {
   "cell_type": "code",
   "execution_count": 43,
   "metadata": {},
   "outputs": [],
   "source": [
    "predictors = df[df.columns[0:1000]]\n",
    "target = df[df.columns[1000]]"
   ]
  },
  {
   "cell_type": "code",
   "execution_count": 45,
   "metadata": {},
   "outputs": [
    {
     "data": {
      "text/plain": [
       "(6600, 1000)"
      ]
     },
     "execution_count": 45,
     "metadata": {},
     "output_type": "execute_result"
    }
   ],
   "source": [
    "predictors.shape"
   ]
  },
  {
   "cell_type": "code",
   "execution_count": 46,
   "metadata": {
    "scrolled": true
   },
   "outputs": [
    {
     "data": {
      "text/plain": [
       "(6600,)"
      ]
     },
     "execution_count": 46,
     "metadata": {},
     "output_type": "execute_result"
    }
   ],
   "source": [
    "target.shape"
   ]
  },
  {
   "cell_type": "code",
   "execution_count": 47,
   "metadata": {},
   "outputs": [],
   "source": [
    "X_train, X_test, y_train, y_test = train_test_split(predictors, target, test_size = .2, random_state = 42)"
   ]
  },
  {
   "cell_type": "markdown",
   "metadata": {},
   "source": [
    "### Logistic Regression"
   ]
  },
  {
   "cell_type": "code",
   "execution_count": 48,
   "metadata": {},
   "outputs": [],
   "source": [
    "log_reg = LogisticRegression(penalty = 'l1', C = 10000)"
   ]
  },
  {
   "cell_type": "code",
   "execution_count": 49,
   "metadata": {},
   "outputs": [
    {
     "name": "stderr",
     "output_type": "stream",
     "text": [
      "/opt/conda/lib/python3.6/site-packages/sklearn/utils/deprecation.py:70: DeprecationWarning: Function transform is deprecated; Support to use estimators as feature selectors will be removed in version 0.19. Use SelectFromModel instead.\n",
      "  warnings.warn(msg, category=DeprecationWarning)\n"
     ]
    },
    {
     "data": {
      "text/plain": [
       "array([[-0.5764655 , -0.69398912,  0.35921516, ...,  1.12641776,\n",
       "         0.57979678, -3.01241554],\n",
       "       [-1.02699425,  1.27652373,  0.97818   , ...,  0.63760335,\n",
       "         0.7773052 , -1.00966964],\n",
       "       [-0.02762255,  2.97106963, -0.30504455, ...,  1.57809425,\n",
       "         0.30991587, -1.00164615],\n",
       "       ..., \n",
       "       [ 0.38292939,  0.17790263, -0.42013424, ..., -0.75279079,\n",
       "         2.61547914, -1.1704748 ],\n",
       "       [-1.63021295,  0.13168501, -0.4358341 , ...,  0.02279938,\n",
       "        -1.12472333, -2.16645939],\n",
       "       [ 0.43925178, -0.85994045,  0.69398546, ...,  0.28433154,\n",
       "         1.20477566,  0.67916881]])"
      ]
     },
     "execution_count": 49,
     "metadata": {},
     "output_type": "execute_result"
    }
   ],
   "source": [
    "log_reg.fit_transform(X_train, y_train)"
   ]
  },
  {
   "cell_type": "code",
   "execution_count": 50,
   "metadata": {},
   "outputs": [
    {
     "name": "stdout",
     "output_type": "stream",
     "text": [
      "Accuracy Score: 0.539393939394\n"
     ]
    }
   ],
   "source": [
    "print(\"Accuracy Score:\", accuracy_score(y_test, log_reg.predict(X_test)))"
   ]
  },
  {
   "cell_type": "code",
   "execution_count": 51,
   "metadata": {},
   "outputs": [
    {
     "name": "stdout",
     "output_type": "stream",
     "text": [
      "ROC AUC Score: 0.539330021396\n"
     ]
    }
   ],
   "source": [
    "print(\"ROC AUC Score:\", roc_auc_score(y_test, log_reg.predict(X_test)))"
   ]
  },
  {
   "cell_type": "code",
   "execution_count": 52,
   "metadata": {
    "scrolled": true
   },
   "outputs": [
    {
     "name": "stdout",
     "output_type": "stream",
     "text": [
      "Log Loss: 15.9089617579\n"
     ]
    }
   ],
   "source": [
    "print(\"Log Loss:\", log_loss(y_test, log_reg.predict(X_test)))"
   ]
  },
  {
   "cell_type": "markdown",
   "metadata": {},
   "source": [
    "*Accuracy Score:* 0.539\n",
    "\n",
    "*ROC AUC Score:* 0.539\n",
    "\n",
    "*Log Loss:* 15.909"
   ]
  },
  {
   "cell_type": "code",
   "execution_count": 54,
   "metadata": {
    "scrolled": true
   },
   "outputs": [
    {
     "name": "stdout",
     "output_type": "stream",
     "text": [
      "             precision    recall  f1-score   support\n",
      "\n",
      "          0       0.54      0.52      0.53       658\n",
      "          1       0.54      0.56      0.55       662\n",
      "\n",
      "avg / total       0.54      0.54      0.54      1320\n",
      "\n"
     ]
    }
   ],
   "source": [
    "print(classification_report(y_test, log_reg.predict(X_test)))"
   ]
  },
  {
   "cell_type": "markdown",
   "metadata": {},
   "source": [
    "### Decision Tree Classifier"
   ]
  },
  {
   "cell_type": "code",
   "execution_count": 55,
   "metadata": {},
   "outputs": [],
   "source": [
    "dt_clf = DecisionTreeClassifier()"
   ]
  },
  {
   "cell_type": "code",
   "execution_count": 56,
   "metadata": {},
   "outputs": [
    {
     "data": {
      "text/plain": [
       "DecisionTreeClassifier(class_weight=None, criterion='gini', max_depth=None,\n",
       "            max_features=None, max_leaf_nodes=None,\n",
       "            min_impurity_split=1e-07, min_samples_leaf=1,\n",
       "            min_samples_split=2, min_weight_fraction_leaf=0.0,\n",
       "            presort=False, random_state=None, splitter='best')"
      ]
     },
     "execution_count": 56,
     "metadata": {},
     "output_type": "execute_result"
    }
   ],
   "source": [
    "dt_clf.fit(X_train, y_train)"
   ]
  },
  {
   "cell_type": "code",
   "execution_count": 57,
   "metadata": {},
   "outputs": [
    {
     "name": "stdout",
     "output_type": "stream",
     "text": [
      "Accuracy Score: 0.628787878788\n"
     ]
    }
   ],
   "source": [
    "print(\"Accuracy Score:\", accuracy_score(y_test, dt_clf.predict(X_test)))"
   ]
  },
  {
   "cell_type": "code",
   "execution_count": 58,
   "metadata": {
    "scrolled": true
   },
   "outputs": [
    {
     "name": "stdout",
     "output_type": "stream",
     "text": [
      "ROC AUC Score: 0.628715598858\n"
     ]
    }
   ],
   "source": [
    "print(\"ROC AUC Score:\", roc_auc_score(y_test, dt_clf.predict(X_test)))"
   ]
  },
  {
   "cell_type": "code",
   "execution_count": 59,
   "metadata": {},
   "outputs": [
    {
     "name": "stdout",
     "output_type": "stream",
     "text": [
      "Log Loss: 12.8213699461\n"
     ]
    }
   ],
   "source": [
    "print(\"Log Loss:\", log_loss(y_test, dt_clf.predict(X_test)))"
   ]
  },
  {
   "cell_type": "markdown",
   "metadata": {},
   "source": [
    "*Accuracy Score:* 0.629\n",
    "\n",
    "*ROC AUC Score:* 0.629\n",
    "\n",
    "*Log Loss:* 12.821"
   ]
  },
  {
   "cell_type": "code",
   "execution_count": 60,
   "metadata": {
    "scrolled": false
   },
   "outputs": [
    {
     "name": "stdout",
     "output_type": "stream",
     "text": [
      "             precision    recall  f1-score   support\n",
      "\n",
      "          0       0.63      0.60      0.62       658\n",
      "          1       0.62      0.65      0.64       662\n",
      "\n",
      "avg / total       0.63      0.63      0.63      1320\n",
      "\n"
     ]
    }
   ],
   "source": [
    "print(classification_report(y_test, dt_clf.predict(X_test)))"
   ]
  },
  {
   "cell_type": "markdown",
   "metadata": {},
   "source": [
    "### K Nearest Neighbor ###"
   ]
  },
  {
   "cell_type": "code",
   "execution_count": 61,
   "metadata": {},
   "outputs": [],
   "source": [
    "knn = KNeighborsClassifier(n_neighbors = 5)"
   ]
  },
  {
   "cell_type": "code",
   "execution_count": 62,
   "metadata": {
    "scrolled": true
   },
   "outputs": [
    {
     "data": {
      "text/plain": [
       "KNeighborsClassifier(algorithm='auto', leaf_size=30, metric='minkowski',\n",
       "           metric_params=None, n_jobs=1, n_neighbors=5, p=2,\n",
       "           weights='uniform')"
      ]
     },
     "execution_count": 62,
     "metadata": {},
     "output_type": "execute_result"
    }
   ],
   "source": [
    "knn.fit(X_train, y_train)"
   ]
  },
  {
   "cell_type": "code",
   "execution_count": 63,
   "metadata": {
    "scrolled": true
   },
   "outputs": [
    {
     "name": "stdout",
     "output_type": "stream",
     "text": [
      "Accuracy Score: 0.6\n"
     ]
    }
   ],
   "source": [
    "print(\"Accuracy Score:\", accuracy_score(y_test, knn.predict(X_test)))"
   ]
  },
  {
   "cell_type": "code",
   "execution_count": 64,
   "metadata": {
    "scrolled": true
   },
   "outputs": [
    {
     "name": "stdout",
     "output_type": "stream",
     "text": [
      "ROC AUC Score: 0.599950412768\n"
     ]
    }
   ],
   "source": [
    "print(\"ROC AUC Score:\", roc_auc_score(y_test, knn.predict(X_test)))"
   ]
  },
  {
   "cell_type": "code",
   "execution_count": 65,
   "metadata": {},
   "outputs": [
    {
     "name": "stdout",
     "output_type": "stream",
     "text": [
      "Log Loss: 13.815676535\n"
     ]
    }
   ],
   "source": [
    "print(\"Log Loss:\", log_loss(y_test, knn.predict(X_test)))"
   ]
  },
  {
   "cell_type": "markdown",
   "metadata": {},
   "source": [
    "*Accuracy Score:* 0.600\n",
    "\n",
    "*ROC AUC Score:* 0.600\n",
    "\n",
    "*Log Loss:* 13.816"
   ]
  },
  {
   "cell_type": "code",
   "execution_count": 66,
   "metadata": {
    "scrolled": false
   },
   "outputs": [
    {
     "name": "stdout",
     "output_type": "stream",
     "text": [
      "             precision    recall  f1-score   support\n",
      "\n",
      "          0       0.60      0.58      0.59       658\n",
      "          1       0.60      0.62      0.61       662\n",
      "\n",
      "avg / total       0.60      0.60      0.60      1320\n",
      "\n"
     ]
    }
   ],
   "source": [
    "print(classification_report(y_test, knn.predict(X_test)))"
   ]
  },
  {
   "cell_type": "markdown",
   "metadata": {},
   "source": [
    "### Support Vector Classifier"
   ]
  },
  {
   "cell_type": "code",
   "execution_count": 67,
   "metadata": {
    "scrolled": true
   },
   "outputs": [
    {
     "data": {
      "text/plain": [
       "SVC(C=10000, cache_size=200, class_weight=None, coef0=0.0,\n",
       "  decision_function_shape=None, degree=3, gamma='auto', kernel='rbf',\n",
       "  max_iter=-1, probability=False, random_state=None, shrinking=True,\n",
       "  tol=0.001, verbose=False)"
      ]
     },
     "execution_count": 67,
     "metadata": {},
     "output_type": "execute_result"
    }
   ],
   "source": [
    "svc = SVC(C = 10000)\n",
    "svc.fit(X_train, y_train)"
   ]
  },
  {
   "cell_type": "code",
   "execution_count": 68,
   "metadata": {
    "scrolled": false
   },
   "outputs": [
    {
     "name": "stdout",
     "output_type": "stream",
     "text": [
      "Accuracy Score: 0.624242424242\n"
     ]
    }
   ],
   "source": [
    "print(\"Accuracy Score:\", accuracy_score(y_test, svc.predict(X_test)))"
   ]
  },
  {
   "cell_type": "code",
   "execution_count": 69,
   "metadata": {
    "scrolled": false
   },
   "outputs": [
    {
     "name": "stdout",
     "output_type": "stream",
     "text": [
      "ROC AUC Score: 0.624160919751\n"
     ]
    }
   ],
   "source": [
    "print(\"ROC AUC Score:\", roc_auc_score(y_test, svc.predict(X_test)))"
   ]
  },
  {
   "cell_type": "code",
   "execution_count": 70,
   "metadata": {
    "scrolled": true
   },
   "outputs": [
    {
     "name": "stdout",
     "output_type": "stream",
     "text": [
      "Log Loss: 12.978367413\n"
     ]
    }
   ],
   "source": [
    "print(\"Log Loss:\", log_loss(y_test, svc.predict(X_test)))"
   ]
  },
  {
   "cell_type": "markdown",
   "metadata": {},
   "source": [
    "*Accuracy Score:* 0.624\n",
    "\n",
    "*ROC AUC Score:* 0.624\n",
    "\n",
    "*Log Loss:* 12.978"
   ]
  },
  {
   "cell_type": "code",
   "execution_count": 71,
   "metadata": {},
   "outputs": [],
   "source": [
    "df.to_pickle('data/cook_df_1.p')\n",
    "# df.to_pickle('data/cook_df_2.p')\n",
    "# df.to_pickle('data/cook_df_3.p')"
   ]
  },
  {
   "cell_type": "code",
   "execution_count": null,
   "metadata": {},
   "outputs": [],
   "source": []
  }
 ],
 "metadata": {
  "kernelspec": {
   "display_name": "Python 3",
   "language": "python",
   "name": "python3"
  },
  "language_info": {
   "codemirror_mode": {
    "name": "ipython",
    "version": 3
   },
   "file_extension": ".py",
   "mimetype": "text/x-python",
   "name": "python",
   "nbconvert_exporter": "python",
   "pygments_lexer": "ipython3",
   "version": "3.6.2"
  }
 },
 "nbformat": 4,
 "nbformat_minor": 2
}
