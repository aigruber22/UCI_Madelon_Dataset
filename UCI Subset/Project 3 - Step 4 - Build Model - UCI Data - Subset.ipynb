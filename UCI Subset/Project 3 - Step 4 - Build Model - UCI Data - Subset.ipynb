{
 "cells": [
  {
   "cell_type": "markdown",
   "metadata": {},
   "source": [
    "## Modeling Results ##"
   ]
  },
  {
   "cell_type": "markdown",
   "metadata": {},
   "source": [
    "***Description of notebook:***\n",
    "\n",
    "In alignment with the benchmarking notebook (for this workflow, the benchmarking was done on the full data set and not the sample used for modeling), I modeled the sample on these four models: Logistic Regression, Decision Tree, K Nearest Neighbors, and Support Vector Classifier.\n",
    "\n",
    "The full steps of modeling:\n",
    "1. Train Test Split\n",
    "2. Min Max Scaler\n",
    "3. Deskewing (Boxcox)\n",
    "4. PCA (5 components)\n",
    "5. Standard Scaler\n",
    "6. Model\n",
    "\n",
    "Steps 5 and 6 were built into a pipeline and gridsearched on to tune hyperparameters.\n",
    "\n",
    "The best performing model was K Nearest Neighbors with an ROC AUC Score of .740 and Log Loss of 8.635."
   ]
  },
  {
   "cell_type": "markdown",
   "metadata": {},
   "source": [
    "### Results ###"
   ]
  },
  {
   "cell_type": "markdown",
   "metadata": {},
   "source": [
    "**Logistic Regression:**"
   ]
  },
  {
   "cell_type": "markdown",
   "metadata": {},
   "source": [
    "*ROC AUC Score:* 0.501\n",
    "\n",
    "*Log Loss:* 16.605"
   ]
  },
  {
   "cell_type": "markdown",
   "metadata": {},
   "source": [
    "**Decision Tree:**"
   ]
  },
  {
   "cell_type": "markdown",
   "metadata": {},
   "source": [
    "*ROC AUC Score:* 0.618\n",
    "\n",
    "*Log Loss:* 12.620"
   ]
  },
  {
   "cell_type": "markdown",
   "metadata": {},
   "source": [
    "**K Nearest Neighbors:**"
   ]
  },
  {
   "cell_type": "markdown",
   "metadata": {},
   "source": [
    "*ROC AUC Score:* 0.740\n",
    "\n",
    "*Log Loss:* 8.635"
   ]
  },
  {
   "cell_type": "markdown",
   "metadata": {},
   "source": [
    "**Support Vector Classifier:**"
   ]
  },
  {
   "cell_type": "markdown",
   "metadata": {},
   "source": [
    "*ROC AUC Score:* 0.458\n",
    "\n",
    "*Log Loss:* 17.934"
   ]
  },
  {
   "cell_type": "code",
   "execution_count": 1,
   "metadata": {
    "collapsed": true
   },
   "outputs": [],
   "source": [
    "from sklearn.datasets import make_classification\n",
    "import matplotlib.pyplot as plt\n",
    "import pandas as pd\n",
    "import numpy as np\n",
    "import seaborn as sns\n",
    "%matplotlib inline\n",
    "from sklearn.preprocessing import StandardScaler, MinMaxScaler\n",
    "from sklearn.model_selection import train_test_split, GridSearchCV, StratifiedKFold\n",
    "from sklearn.linear_model import Ridge, RidgeCV, Lasso, LassoCV, LogisticRegression\n",
    "from sklearn.pipeline import Pipeline\n",
    "from sklearn.feature_selection import SelectFromModel, RFE, RFECV, SelectKBest, chi2, f_classif\n",
    "from sklearn.neighbors import KNeighborsClassifier\n",
    "from sklearn.decomposition import PCA\n",
    "from scipy.stats import boxcox\n",
    "from sklearn.metrics import roc_auc_score, classification_report, accuracy_score, log_loss\n",
    "from sklearn.svm import SVC\n",
    "from sklearn.ensemble import RandomForestClassifier\n",
    "from sklearn.tree import DecisionTreeClassifier"
   ]
  },
  {
   "cell_type": "code",
   "execution_count": 2,
   "metadata": {
    "collapsed": true,
    "scrolled": false
   },
   "outputs": [],
   "source": [
    "df = pd.read_pickle('data/df_elite_1.p')\n",
    "# df = pd.read_pickle('data/df_elite_2.p')\n",
    "# df = pd.read_pickle('data/df_elite_3.p')"
   ]
  },
  {
   "cell_type": "code",
   "execution_count": 3,
   "metadata": {
    "scrolled": true
   },
   "outputs": [
    {
     "data": {
      "text/html": [
       "<div>\n",
       "<table border=\"1\" class=\"dataframe\">\n",
       "  <thead>\n",
       "    <tr style=\"text-align: right;\">\n",
       "      <th></th>\n",
       "      <th>28</th>\n",
       "      <th>48</th>\n",
       "      <th>64</th>\n",
       "      <th>105</th>\n",
       "      <th>128</th>\n",
       "      <th>153</th>\n",
       "      <th>241</th>\n",
       "      <th>281</th>\n",
       "      <th>318</th>\n",
       "      <th>336</th>\n",
       "      <th>...</th>\n",
       "      <th>378</th>\n",
       "      <th>433</th>\n",
       "      <th>442</th>\n",
       "      <th>451</th>\n",
       "      <th>453</th>\n",
       "      <th>455</th>\n",
       "      <th>472</th>\n",
       "      <th>475</th>\n",
       "      <th>493</th>\n",
       "      <th>target</th>\n",
       "    </tr>\n",
       "  </thead>\n",
       "  <tbody>\n",
       "    <tr>\n",
       "      <th>574</th>\n",
       "      <td>468</td>\n",
       "      <td>444</td>\n",
       "      <td>444</td>\n",
       "      <td>558</td>\n",
       "      <td>484</td>\n",
       "      <td>610</td>\n",
       "      <td>477</td>\n",
       "      <td>550</td>\n",
       "      <td>442</td>\n",
       "      <td>418</td>\n",
       "      <td>...</td>\n",
       "      <td>439</td>\n",
       "      <td>578</td>\n",
       "      <td>620</td>\n",
       "      <td>469</td>\n",
       "      <td>685</td>\n",
       "      <td>358</td>\n",
       "      <td>533</td>\n",
       "      <td>455</td>\n",
       "      <td>713</td>\n",
       "      <td>-1</td>\n",
       "    </tr>\n",
       "    <tr>\n",
       "      <th>243</th>\n",
       "      <td>490</td>\n",
       "      <td>458</td>\n",
       "      <td>602</td>\n",
       "      <td>331</td>\n",
       "      <td>465</td>\n",
       "      <td>460</td>\n",
       "      <td>455</td>\n",
       "      <td>458</td>\n",
       "      <td>514</td>\n",
       "      <td>604</td>\n",
       "      <td>...</td>\n",
       "      <td>456</td>\n",
       "      <td>470</td>\n",
       "      <td>469</td>\n",
       "      <td>482</td>\n",
       "      <td>379</td>\n",
       "      <td>580</td>\n",
       "      <td>467</td>\n",
       "      <td>430</td>\n",
       "      <td>379</td>\n",
       "      <td>-1</td>\n",
       "    </tr>\n",
       "    <tr>\n",
       "      <th>487</th>\n",
       "      <td>493</td>\n",
       "      <td>475</td>\n",
       "      <td>571</td>\n",
       "      <td>430</td>\n",
       "      <td>473</td>\n",
       "      <td>558</td>\n",
       "      <td>449</td>\n",
       "      <td>505</td>\n",
       "      <td>540</td>\n",
       "      <td>644</td>\n",
       "      <td>...</td>\n",
       "      <td>482</td>\n",
       "      <td>543</td>\n",
       "      <td>429</td>\n",
       "      <td>487</td>\n",
       "      <td>466</td>\n",
       "      <td>583</td>\n",
       "      <td>447</td>\n",
       "      <td>417</td>\n",
       "      <td>480</td>\n",
       "      <td>-1</td>\n",
       "    </tr>\n",
       "    <tr>\n",
       "      <th>468</th>\n",
       "      <td>471</td>\n",
       "      <td>526</td>\n",
       "      <td>404</td>\n",
       "      <td>700</td>\n",
       "      <td>495</td>\n",
       "      <td>558</td>\n",
       "      <td>542</td>\n",
       "      <td>506</td>\n",
       "      <td>452</td>\n",
       "      <td>372</td>\n",
       "      <td>...</td>\n",
       "      <td>543</td>\n",
       "      <td>530</td>\n",
       "      <td>539</td>\n",
       "      <td>471</td>\n",
       "      <td>609</td>\n",
       "      <td>401</td>\n",
       "      <td>500</td>\n",
       "      <td>540</td>\n",
       "      <td>631</td>\n",
       "      <td>1</td>\n",
       "    </tr>\n",
       "    <tr>\n",
       "      <th>708</th>\n",
       "      <td>486</td>\n",
       "      <td>544</td>\n",
       "      <td>423</td>\n",
       "      <td>782</td>\n",
       "      <td>502</td>\n",
       "      <td>444</td>\n",
       "      <td>510</td>\n",
       "      <td>447</td>\n",
       "      <td>503</td>\n",
       "      <td>368</td>\n",
       "      <td>...</td>\n",
       "      <td>581</td>\n",
       "      <td>459</td>\n",
       "      <td>521</td>\n",
       "      <td>482</td>\n",
       "      <td>547</td>\n",
       "      <td>374</td>\n",
       "      <td>492</td>\n",
       "      <td>502</td>\n",
       "      <td>575</td>\n",
       "      <td>1</td>\n",
       "    </tr>\n",
       "  </tbody>\n",
       "</table>\n",
       "<p>5 rows × 21 columns</p>\n",
       "</div>"
      ],
      "text/plain": [
       "      28   48   64  105  128  153  241  281  318  336   ...    378  433  442  \\\n",
       "574  468  444  444  558  484  610  477  550  442  418   ...    439  578  620   \n",
       "243  490  458  602  331  465  460  455  458  514  604   ...    456  470  469   \n",
       "487  493  475  571  430  473  558  449  505  540  644   ...    482  543  429   \n",
       "468  471  526  404  700  495  558  542  506  452  372   ...    543  530  539   \n",
       "708  486  544  423  782  502  444  510  447  503  368   ...    581  459  521   \n",
       "\n",
       "     451  453  455  472  475  493  target  \n",
       "574  469  685  358  533  455  713      -1  \n",
       "243  482  379  580  467  430  379      -1  \n",
       "487  487  466  583  447  417  480      -1  \n",
       "468  471  609  401  500  540  631       1  \n",
       "708  482  547  374  492  502  575       1  \n",
       "\n",
       "[5 rows x 21 columns]"
      ]
     },
     "execution_count": 3,
     "metadata": {},
     "output_type": "execute_result"
    }
   ],
   "source": [
    "df.head()"
   ]
  },
  {
   "cell_type": "code",
   "execution_count": 4,
   "metadata": {},
   "outputs": [
    {
     "data": {
      "text/plain": [
       "(260, 21)"
      ]
     },
     "execution_count": 4,
     "metadata": {},
     "output_type": "execute_result"
    }
   ],
   "source": [
    "df.shape"
   ]
  },
  {
   "cell_type": "code",
   "execution_count": 5,
   "metadata": {
    "collapsed": true,
    "scrolled": false
   },
   "outputs": [],
   "source": [
    "predictors = df[df.columns[0:20]]\n",
    "target = df[df.columns[20]]"
   ]
  },
  {
   "cell_type": "code",
   "execution_count": 6,
   "metadata": {
    "collapsed": true
   },
   "outputs": [],
   "source": [
    "X_train, X_test, y_train, y_test = train_test_split(predictors, target, test_size = .2, random_state = 42)"
   ]
  },
  {
   "cell_type": "markdown",
   "metadata": {},
   "source": [
    "Min Max Scaling (as contingency against 0's and negatives)"
   ]
  },
  {
   "cell_type": "code",
   "execution_count": 7,
   "metadata": {},
   "outputs": [],
   "source": [
    "min_max = MinMaxScaler(feature_range=(0.0001, 1))\n",
    "X_train_sc = pd.DataFrame(min_max.fit_transform(X_train))\n",
    "X_test_sc = pd.DataFrame(min_max.fit_transform(X_test))"
   ]
  },
  {
   "cell_type": "markdown",
   "metadata": {},
   "source": [
    "Deskewing"
   ]
  },
  {
   "cell_type": "code",
   "execution_count": 8,
   "metadata": {
    "collapsed": true
   },
   "outputs": [],
   "source": [
    "def box_cox(train_df, test_df):\n",
    "    '''Input X_train and X_test to get those dataframes deskewed'''\n",
    "    X_train_bc = pd.DataFrame()\n",
    "    X_test_bc = pd.DataFrame()\n",
    "    for col in train_df.columns:\n",
    "        box_cox_train, lmbda = boxcox(train_df[col])\n",
    "        box_cox_test = boxcox(test_df[col], lmbda)\n",
    "        X_train_bc[col] = pd.Series(box_cox_train)\n",
    "        X_test_bc[col] = pd.Series(box_cox_test)\n",
    "    \n",
    "    return X_train_bc, X_test_bc"
   ]
  },
  {
   "cell_type": "code",
   "execution_count": 9,
   "metadata": {},
   "outputs": [],
   "source": [
    "X_train_bc, X_test_bc = box_cox(X_train_sc, X_test_sc)"
   ]
  },
  {
   "cell_type": "markdown",
   "metadata": {},
   "source": [
    "PCA"
   ]
  },
  {
   "cell_type": "code",
   "execution_count": 10,
   "metadata": {
    "collapsed": true
   },
   "outputs": [],
   "source": [
    "pca = PCA(n_components = 5)\n",
    "X_train_comp = pca.fit_transform(X_train_bc)\n",
    "X_test_comp = pca.transform(X_test_bc)"
   ]
  },
  {
   "cell_type": "markdown",
   "metadata": {},
   "source": [
    "I could have put the standard scaler here and taken it out of pipelines"
   ]
  },
  {
   "cell_type": "markdown",
   "metadata": {},
   "source": [
    "### Logistic Regression ###"
   ]
  },
  {
   "cell_type": "code",
   "execution_count": 11,
   "metadata": {
    "collapsed": true
   },
   "outputs": [],
   "source": [
    "scaler = StandardScaler()\n",
    "log_reg = LogisticRegression()\n",
    "pipe_log_reg = Pipeline([\n",
    "    ('scaler', scaler), \n",
    "    ('log_reg', log_reg)\n",
    "])"
   ]
  },
  {
   "cell_type": "code",
   "execution_count": 12,
   "metadata": {
    "collapsed": true
   },
   "outputs": [],
   "source": [
    "log_reg_params = {\n",
    "    'log_reg__penalty' : ['l1', 'l2'],\n",
    "    'log_reg__C' : np.logspace(-10,-1,10)\n",
    "}"
   ]
  },
  {
   "cell_type": "code",
   "execution_count": 13,
   "metadata": {
    "collapsed": true
   },
   "outputs": [],
   "source": [
    "grd_log_reg = GridSearchCV(pipe_log_reg, log_reg_params, cv = 5)"
   ]
  },
  {
   "cell_type": "code",
   "execution_count": 14,
   "metadata": {},
   "outputs": [
    {
     "data": {
      "text/plain": [
       "GridSearchCV(cv=5, error_score='raise',\n",
       "       estimator=Pipeline(steps=[('scaler', StandardScaler(copy=True, with_mean=True, with_std=True)), ('log_reg', LogisticRegression(C=1.0, class_weight=None, dual=False, fit_intercept=True,\n",
       "          intercept_scaling=1, max_iter=100, multi_class='ovr', n_jobs=1,\n",
       "          penalty='l2', random_state=None, solver='liblinear', tol=0.0001,\n",
       "          verbose=0, warm_start=False))]),\n",
       "       fit_params={}, iid=True, n_jobs=1,\n",
       "       param_grid={'log_reg__penalty': ['l1', 'l2'], 'log_reg__C': array([  1.00000e-10,   1.00000e-09,   1.00000e-08,   1.00000e-07,\n",
       "         1.00000e-06,   1.00000e-05,   1.00000e-04,   1.00000e-03,\n",
       "         1.00000e-02,   1.00000e-01])},\n",
       "       pre_dispatch='2*n_jobs', refit=True, return_train_score=True,\n",
       "       scoring=None, verbose=0)"
      ]
     },
     "execution_count": 14,
     "metadata": {},
     "output_type": "execute_result"
    }
   ],
   "source": [
    "grd_log_reg.fit(X_train_comp, y_train)"
   ]
  },
  {
   "cell_type": "code",
   "execution_count": 15,
   "metadata": {
    "scrolled": true
   },
   "outputs": [
    {
     "data": {
      "text/plain": [
       "{'log_reg__C': 1e-10, 'log_reg__penalty': 'l2'}"
      ]
     },
     "execution_count": 15,
     "metadata": {},
     "output_type": "execute_result"
    }
   ],
   "source": [
    "grd_log_reg.best_params_"
   ]
  },
  {
   "cell_type": "code",
   "execution_count": 16,
   "metadata": {
    "scrolled": false
   },
   "outputs": [
    {
     "data": {
      "text/plain": [
       "0.71634615384615385"
      ]
     },
     "execution_count": 16,
     "metadata": {},
     "output_type": "execute_result"
    }
   ],
   "source": [
    "grd_log_reg.score(X_train_comp, y_train)"
   ]
  },
  {
   "cell_type": "code",
   "execution_count": 17,
   "metadata": {
    "scrolled": true
   },
   "outputs": [
    {
     "data": {
      "text/plain": [
       "0.51923076923076927"
      ]
     },
     "execution_count": 17,
     "metadata": {},
     "output_type": "execute_result"
    }
   ],
   "source": [
    "grd_log_reg.score(X_test_comp, y_test)"
   ]
  },
  {
   "cell_type": "code",
   "execution_count": 18,
   "metadata": {
    "scrolled": true
   },
   "outputs": [
    {
     "name": "stdout",
     "output_type": "stream",
     "text": [
      "Accuracy Score: 0.519230769231\n"
     ]
    }
   ],
   "source": [
    "print(\"Accuracy Score:\", accuracy_score(y_test, grd_log_reg.predict(X_test_comp)))"
   ]
  },
  {
   "cell_type": "code",
   "execution_count": 19,
   "metadata": {
    "scrolled": false
   },
   "outputs": [
    {
     "name": "stdout",
     "output_type": "stream",
     "text": [
      "ROC AUC Score: 0.501499250375\n"
     ]
    }
   ],
   "source": [
    "print(\"ROC AUC Score:\", roc_auc_score(y_test, grd_log_reg.predict(X_test_comp)))"
   ]
  },
  {
   "cell_type": "code",
   "execution_count": 20,
   "metadata": {
    "scrolled": false
   },
   "outputs": [
    {
     "name": "stdout",
     "output_type": "stream",
     "text": [
      "Log Loss: 16.6054116122\n"
     ]
    }
   ],
   "source": [
    "print(\"Log Loss:\", log_loss(y_test, grd_log_reg.predict(X_test_comp)))"
   ]
  },
  {
   "cell_type": "markdown",
   "metadata": {},
   "source": [
    "*Accuracy Score:* 0.519\n",
    "\n",
    "*ROC AUC Score:* 0.501\n",
    "\n",
    "*Log Loss:* 16.605"
   ]
  },
  {
   "cell_type": "markdown",
   "metadata": {},
   "source": [
    "**Results:** The data isn't linear, so this model doesn't perform well."
   ]
  },
  {
   "cell_type": "markdown",
   "metadata": {},
   "source": [
    "### Decision Tree "
   ]
  },
  {
   "cell_type": "code",
   "execution_count": 21,
   "metadata": {
    "collapsed": true
   },
   "outputs": [],
   "source": [
    "scaler = StandardScaler()\n",
    "dt_clf = DecisionTreeClassifier()\n",
    "pipe_dt_clf = Pipeline([\n",
    "    ('scaler', scaler), \n",
    "    ('dt_clf', dt_clf)\n",
    "])"
   ]
  },
  {
   "cell_type": "code",
   "execution_count": 22,
   "metadata": {
    "collapsed": true
   },
   "outputs": [],
   "source": [
    "dt_clf_params = {\n",
    "    'dt_clf__criterion' : ['gini', 'entropy'],\n",
    "    'dt_clf__min_samples_split' : range(2,11)\n",
    "}"
   ]
  },
  {
   "cell_type": "code",
   "execution_count": 23,
   "metadata": {
    "collapsed": true
   },
   "outputs": [],
   "source": [
    "grd_dt_clf = GridSearchCV(pipe_dt_clf, dt_clf_params, cv = 5)"
   ]
  },
  {
   "cell_type": "code",
   "execution_count": 24,
   "metadata": {
    "scrolled": true
   },
   "outputs": [
    {
     "data": {
      "text/plain": [
       "GridSearchCV(cv=5, error_score='raise',\n",
       "       estimator=Pipeline(steps=[('scaler', StandardScaler(copy=True, with_mean=True, with_std=True)), ('dt_clf', DecisionTreeClassifier(class_weight=None, criterion='gini', max_depth=None,\n",
       "            max_features=None, max_leaf_nodes=None,\n",
       "            min_impurity_split=1e-07, min_samples_leaf=1,\n",
       "            min_samples_split=2, min_weight_fraction_leaf=0.0,\n",
       "            presort=False, random_state=None, splitter='best'))]),\n",
       "       fit_params={}, iid=True, n_jobs=1,\n",
       "       param_grid={'dt_clf__criterion': ['gini', 'entropy'], 'dt_clf__min_samples_split': range(2, 11)},\n",
       "       pre_dispatch='2*n_jobs', refit=True, return_train_score=True,\n",
       "       scoring=None, verbose=0)"
      ]
     },
     "execution_count": 24,
     "metadata": {},
     "output_type": "execute_result"
    }
   ],
   "source": [
    "grd_dt_clf.fit(X_train_comp, y_train)"
   ]
  },
  {
   "cell_type": "code",
   "execution_count": 25,
   "metadata": {
    "scrolled": true
   },
   "outputs": [
    {
     "data": {
      "text/plain": [
       "{'dt_clf__criterion': 'entropy', 'dt_clf__min_samples_split': 6}"
      ]
     },
     "execution_count": 25,
     "metadata": {},
     "output_type": "execute_result"
    }
   ],
   "source": [
    "grd_dt_clf.best_params_"
   ]
  },
  {
   "cell_type": "code",
   "execution_count": 26,
   "metadata": {
    "scrolled": false
   },
   "outputs": [
    {
     "data": {
      "text/plain": [
       "0.95673076923076927"
      ]
     },
     "execution_count": 26,
     "metadata": {},
     "output_type": "execute_result"
    }
   ],
   "source": [
    "grd_dt_clf.score(X_train_comp, y_train)"
   ]
  },
  {
   "cell_type": "code",
   "execution_count": 27,
   "metadata": {
    "scrolled": true
   },
   "outputs": [
    {
     "data": {
      "text/plain": [
       "0.63461538461538458"
      ]
     },
     "execution_count": 27,
     "metadata": {},
     "output_type": "execute_result"
    }
   ],
   "source": [
    "grd_dt_clf.score(X_test_comp, y_test)"
   ]
  },
  {
   "cell_type": "code",
   "execution_count": 28,
   "metadata": {
    "scrolled": true
   },
   "outputs": [
    {
     "name": "stdout",
     "output_type": "stream",
     "text": [
      "Accuracy Score: 0.634615384615\n"
     ]
    }
   ],
   "source": [
    "print(\"Accuracy Score:\", accuracy_score(y_test, grd_dt_clf.predict(X_test_comp)))"
   ]
  },
  {
   "cell_type": "code",
   "execution_count": 29,
   "metadata": {
    "scrolled": true
   },
   "outputs": [
    {
     "name": "stdout",
     "output_type": "stream",
     "text": [
      "ROC AUC Score: 0.61844077961\n"
     ]
    }
   ],
   "source": [
    "print(\"ROC AUC Score:\", roc_auc_score(y_test, grd_dt_clf.predict(X_test_comp)))"
   ]
  },
  {
   "cell_type": "code",
   "execution_count": 30,
   "metadata": {
    "scrolled": false
   },
   "outputs": [
    {
     "name": "stdout",
     "output_type": "stream",
     "text": [
      "Log Loss: 12.6201220514\n"
     ]
    }
   ],
   "source": [
    "print(\"Log Loss:\", log_loss(y_test, grd_dt_clf.predict(X_test_comp)))"
   ]
  },
  {
   "cell_type": "markdown",
   "metadata": {},
   "source": [
    "*Accuracy Score:* 0.635\n",
    "\n",
    "*ROC AUC Score:* 0.618\n",
    "\n",
    "*Log Loss:* 12.620"
   ]
  },
  {
   "cell_type": "markdown",
   "metadata": {},
   "source": [
    "### K Nearest Neighbors "
   ]
  },
  {
   "cell_type": "code",
   "execution_count": 31,
   "metadata": {
    "collapsed": true
   },
   "outputs": [],
   "source": [
    "scaler = StandardScaler()\n",
    "knn = KNeighborsClassifier()\n",
    "pipe_knn = Pipeline([\n",
    "    ('scaler', scaler), \n",
    "    ('knn', knn)\n",
    "])"
   ]
  },
  {
   "cell_type": "code",
   "execution_count": 32,
   "metadata": {
    "collapsed": true
   },
   "outputs": [],
   "source": [
    "knn_params = {\n",
    "    'knn__n_neighbors' : range(1,11),\n",
    "    'knn__weights' : ['uniform', 'distance'],\n",
    "    'knn__leaf_size' : [2, 5, 10, 15, 20, 25, 30, 35]\n",
    "}"
   ]
  },
  {
   "cell_type": "code",
   "execution_count": 33,
   "metadata": {
    "collapsed": true
   },
   "outputs": [],
   "source": [
    "grd_knn = GridSearchCV(pipe_knn, knn_params, cv = 5)"
   ]
  },
  {
   "cell_type": "code",
   "execution_count": 34,
   "metadata": {},
   "outputs": [
    {
     "data": {
      "text/plain": [
       "GridSearchCV(cv=5, error_score='raise',\n",
       "       estimator=Pipeline(steps=[('scaler', StandardScaler(copy=True, with_mean=True, with_std=True)), ('knn', KNeighborsClassifier(algorithm='auto', leaf_size=30, metric='minkowski',\n",
       "           metric_params=None, n_jobs=1, n_neighbors=5, p=2,\n",
       "           weights='uniform'))]),\n",
       "       fit_params={}, iid=True, n_jobs=1,\n",
       "       param_grid={'knn__n_neighbors': range(1, 11), 'knn__weights': ['uniform', 'distance'], 'knn__leaf_size': [2, 5, 10, 15, 20, 25, 30, 35]},\n",
       "       pre_dispatch='2*n_jobs', refit=True, return_train_score=True,\n",
       "       scoring=None, verbose=0)"
      ]
     },
     "execution_count": 34,
     "metadata": {},
     "output_type": "execute_result"
    }
   ],
   "source": [
    "grd_knn.fit(X_train_comp, y_train)"
   ]
  },
  {
   "cell_type": "code",
   "execution_count": 36,
   "metadata": {
    "scrolled": true
   },
   "outputs": [
    {
     "data": {
      "text/plain": [
       "{'knn__leaf_size': 2, 'knn__n_neighbors': 3, 'knn__weights': 'distance'}"
      ]
     },
     "execution_count": 36,
     "metadata": {},
     "output_type": "execute_result"
    }
   ],
   "source": [
    "grd_knn.best_params_"
   ]
  },
  {
   "cell_type": "code",
   "execution_count": 37,
   "metadata": {
    "scrolled": false
   },
   "outputs": [
    {
     "data": {
      "text/plain": [
       "1.0"
      ]
     },
     "execution_count": 37,
     "metadata": {},
     "output_type": "execute_result"
    }
   ],
   "source": [
    "grd_knn.score(X_train_comp, y_train)"
   ]
  },
  {
   "cell_type": "code",
   "execution_count": 38,
   "metadata": {
    "scrolled": true
   },
   "outputs": [
    {
     "data": {
      "text/plain": [
       "0.75"
      ]
     },
     "execution_count": 38,
     "metadata": {},
     "output_type": "execute_result"
    }
   ],
   "source": [
    "grd_knn.score(X_test_comp, y_test)"
   ]
  },
  {
   "cell_type": "code",
   "execution_count": 39,
   "metadata": {
    "scrolled": true
   },
   "outputs": [
    {
     "name": "stdout",
     "output_type": "stream",
     "text": [
      "Accuracy Score: 0.75\n"
     ]
    }
   ],
   "source": [
    "print(\"Accuracy Score:\", accuracy_score(y_test, grd_knn.predict(X_test_comp)))"
   ]
  },
  {
   "cell_type": "code",
   "execution_count": 40,
   "metadata": {
    "scrolled": true
   },
   "outputs": [
    {
     "name": "stdout",
     "output_type": "stream",
     "text": [
      "ROC AUC Score: 0.73988005997\n"
     ]
    }
   ],
   "source": [
    "print(\"ROC AUC Score:\", roc_auc_score(y_test, grd_knn.predict(X_test_comp)))"
   ]
  },
  {
   "cell_type": "code",
   "execution_count": 41,
   "metadata": {
    "scrolled": false
   },
   "outputs": [
    {
     "name": "stdout",
     "output_type": "stream",
     "text": [
      "Log Loss: 8.63481711372\n"
     ]
    }
   ],
   "source": [
    "print(\"Log Loss:\", log_loss(y_test, grd_knn.predict(X_test_comp)))"
   ]
  },
  {
   "cell_type": "markdown",
   "metadata": {},
   "source": [
    "*Accuracy Score:* 0.750\n",
    "\n",
    "*ROC AUC Score:* 0.740\n",
    "\n",
    "*Log Loss:* 8.635"
   ]
  },
  {
   "cell_type": "markdown",
   "metadata": {},
   "source": [
    "### Support Vector Classifier "
   ]
  },
  {
   "cell_type": "code",
   "execution_count": 42,
   "metadata": {
    "collapsed": true
   },
   "outputs": [],
   "source": [
    "scaler = StandardScaler()\n",
    "svc = SVC()\n",
    "pipe_svc = Pipeline([\n",
    "    ('scaler', scaler), \n",
    "    ('svc', svc)\n",
    "])"
   ]
  },
  {
   "cell_type": "code",
   "execution_count": 43,
   "metadata": {
    "collapsed": true
   },
   "outputs": [],
   "source": [
    "svc_params = {\n",
    "    'svc__C' : np.logspace(-10,-1,10),\n",
    "    'svc__kernel' : ['rbf', 'linear', 'poly']\n",
    "}"
   ]
  },
  {
   "cell_type": "code",
   "execution_count": 44,
   "metadata": {
    "collapsed": true
   },
   "outputs": [],
   "source": [
    "grd_svc = GridSearchCV(pipe_svc, svc_params, cv = 5)"
   ]
  },
  {
   "cell_type": "code",
   "execution_count": 45,
   "metadata": {},
   "outputs": [
    {
     "data": {
      "text/plain": [
       "GridSearchCV(cv=5, error_score='raise',\n",
       "       estimator=Pipeline(steps=[('scaler', StandardScaler(copy=True, with_mean=True, with_std=True)), ('svc', SVC(C=1.0, cache_size=200, class_weight=None, coef0=0.0,\n",
       "  decision_function_shape=None, degree=3, gamma='auto', kernel='rbf',\n",
       "  max_iter=-1, probability=False, random_state=None, shrinking=True,\n",
       "  tol=0.001, verbose=False))]),\n",
       "       fit_params={}, iid=True, n_jobs=1,\n",
       "       param_grid={'svc__C': array([  1.00000e-10,   1.00000e-09,   1.00000e-08,   1.00000e-07,\n",
       "         1.00000e-06,   1.00000e-05,   1.00000e-04,   1.00000e-03,\n",
       "         1.00000e-02,   1.00000e-01]), 'svc__kernel': ['rbf', 'linear', 'poly']},\n",
       "       pre_dispatch='2*n_jobs', refit=True, return_train_score=True,\n",
       "       scoring=None, verbose=0)"
      ]
     },
     "execution_count": 45,
     "metadata": {},
     "output_type": "execute_result"
    }
   ],
   "source": [
    "grd_svc.fit(X_train_comp, y_train)"
   ]
  },
  {
   "cell_type": "code",
   "execution_count": 46,
   "metadata": {
    "scrolled": true
   },
   "outputs": [
    {
     "data": {
      "text/plain": [
       "{'svc__C': 0.01, 'svc__kernel': 'linear'}"
      ]
     },
     "execution_count": 46,
     "metadata": {},
     "output_type": "execute_result"
    }
   ],
   "source": [
    "grd_svc.best_params_"
   ]
  },
  {
   "cell_type": "code",
   "execution_count": 47,
   "metadata": {
    "scrolled": false
   },
   "outputs": [
    {
     "data": {
      "text/plain": [
       "0.72115384615384615"
      ]
     },
     "execution_count": 47,
     "metadata": {},
     "output_type": "execute_result"
    }
   ],
   "source": [
    "grd_svc.score(X_train_comp, y_train)"
   ]
  },
  {
   "cell_type": "code",
   "execution_count": 48,
   "metadata": {
    "scrolled": true
   },
   "outputs": [
    {
     "data": {
      "text/plain": [
       "0.48076923076923078"
      ]
     },
     "execution_count": 48,
     "metadata": {},
     "output_type": "execute_result"
    }
   ],
   "source": [
    "grd_svc.score(X_test_comp, y_test)"
   ]
  },
  {
   "cell_type": "code",
   "execution_count": 49,
   "metadata": {
    "scrolled": true
   },
   "outputs": [
    {
     "name": "stdout",
     "output_type": "stream",
     "text": [
      "Accuracy Score: 0.480769230769\n"
     ]
    }
   ],
   "source": [
    "print(\"Accuracy Score:\", accuracy_score(y_test, grd_svc.predict(X_test_comp)))"
   ]
  },
  {
   "cell_type": "code",
   "execution_count": 50,
   "metadata": {
    "scrolled": true
   },
   "outputs": [
    {
     "name": "stdout",
     "output_type": "stream",
     "text": [
      "ROC AUC Score: 0.458020989505\n"
     ]
    }
   ],
   "source": [
    "print(\"ROC AUC Score:\", roc_auc_score(y_test, grd_svc.predict(X_test_comp)))"
   ]
  },
  {
   "cell_type": "code",
   "execution_count": 51,
   "metadata": {
    "scrolled": false
   },
   "outputs": [
    {
     "name": "stdout",
     "output_type": "stream",
     "text": [
      "Log Loss: 17.9338568427\n"
     ]
    }
   ],
   "source": [
    "print(\"Log Loss:\", log_loss(y_test, grd_svc.predict(X_test_comp)))"
   ]
  },
  {
   "cell_type": "markdown",
   "metadata": {},
   "source": [
    "*Accuracy Score:* 0.481\n",
    "\n",
    "*ROC AUC Score:* 0.458\n",
    "\n",
    "*Log Loss:* 17.934"
   ]
  },
  {
   "cell_type": "code",
   "execution_count": null,
   "metadata": {
    "collapsed": true
   },
   "outputs": [],
   "source": []
  }
 ],
 "metadata": {
  "kernelspec": {
   "display_name": "Python 3",
   "language": "python",
   "name": "python3"
  },
  "language_info": {
   "codemirror_mode": {
    "name": "ipython",
    "version": 3
   },
   "file_extension": ".py",
   "mimetype": "text/x-python",
   "name": "python",
   "nbconvert_exporter": "python",
   "pygments_lexer": "ipython3",
   "version": "3.6.2"
  }
 },
 "nbformat": 4,
 "nbformat_minor": 2
}
