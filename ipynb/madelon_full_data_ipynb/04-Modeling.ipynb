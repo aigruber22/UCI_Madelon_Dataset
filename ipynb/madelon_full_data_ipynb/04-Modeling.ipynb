{
 "cells": [
  {
   "cell_type": "markdown",
   "metadata": {},
   "source": [
    "## Modeling Results ##"
   ]
  },
  {
   "cell_type": "markdown",
   "metadata": {},
   "source": [
    "***Description of notebook:***\n",
    "\n",
    "In alignment with the benchmarking notebook, I modeled the sample on these four models: Logistic Regression, Decision Tree, K Nearest Neighbors, and Support Vector Classifier.\n",
    "\n",
    "The full steps of modeling:\n",
    "1. Train Test Split\n",
    "2. Min Max Scaler\n",
    "3. Deskewing (Boxcox)\n",
    "4. PCA (5 components)\n",
    "5. Standard Scaler\n",
    "6. Model\n",
    "\n",
    "Steps 5 and 6 were built into a pipeline and gridsearched on to tune hyperparameters.\n",
    "\n",
    "The best performing model was K Nearest Neighbors with a ROC AUC Score of .889 and Log Loss of 3.852."
   ]
  },
  {
   "cell_type": "markdown",
   "metadata": {},
   "source": [
    "### Results ###"
   ]
  },
  {
   "cell_type": "markdown",
   "metadata": {},
   "source": [
    "**Logistic Regression:**"
   ]
  },
  {
   "cell_type": "markdown",
   "metadata": {},
   "source": [
    "*ROC AUC Score:* 0.619\n",
    "\n",
    "*Log Loss:* 13.151"
   ]
  },
  {
   "cell_type": "markdown",
   "metadata": {},
   "source": [
    "**Decision Tree:**"
   ]
  },
  {
   "cell_type": "markdown",
   "metadata": {},
   "source": [
    "*ROC AUC Score:* 0.773\n",
    "\n",
    "*Log Loss:* 7.838"
   ]
  },
  {
   "cell_type": "markdown",
   "metadata": {},
   "source": [
    "**K Nearest Neighbors:**"
   ]
  },
  {
   "cell_type": "markdown",
   "metadata": {},
   "source": [
    "*ROC AUC Score:* 0.889\n",
    "\n",
    "*Log Loss:* 3.852"
   ]
  },
  {
   "cell_type": "markdown",
   "metadata": {},
   "source": [
    "**Support Vector Classifier:**"
   ]
  },
  {
   "cell_type": "markdown",
   "metadata": {},
   "source": [
    "*ROC AUC Score:* 0.800\n",
    "\n",
    "*Log Loss:* 6.907"
   ]
  },
  {
   "cell_type": "code",
   "execution_count": 1,
   "metadata": {},
   "outputs": [],
   "source": [
    "% run __init__.py"
   ]
  },
  {
   "cell_type": "code",
   "execution_count": 2,
   "metadata": {
    "scrolled": false
   },
   "outputs": [],
   "source": [
    "df = pd.read_pickle('data/elite_df_fulluci.p')"
   ]
  },
  {
   "cell_type": "code",
   "execution_count": 3,
   "metadata": {
    "scrolled": true
   },
   "outputs": [
    {
     "data": {
      "text/html": [
       "<div>\n",
       "<table border=\"1\" class=\"dataframe\">\n",
       "  <thead>\n",
       "    <tr style=\"text-align: right;\">\n",
       "      <th></th>\n",
       "      <th>28</th>\n",
       "      <th>48</th>\n",
       "      <th>64</th>\n",
       "      <th>105</th>\n",
       "      <th>128</th>\n",
       "      <th>153</th>\n",
       "      <th>241</th>\n",
       "      <th>281</th>\n",
       "      <th>318</th>\n",
       "      <th>336</th>\n",
       "      <th>...</th>\n",
       "      <th>378</th>\n",
       "      <th>433</th>\n",
       "      <th>442</th>\n",
       "      <th>451</th>\n",
       "      <th>453</th>\n",
       "      <th>455</th>\n",
       "      <th>472</th>\n",
       "      <th>475</th>\n",
       "      <th>493</th>\n",
       "      <th>target</th>\n",
       "    </tr>\n",
       "  </thead>\n",
       "  <tbody>\n",
       "    <tr>\n",
       "      <th>0</th>\n",
       "      <td>459</td>\n",
       "      <td>440</td>\n",
       "      <td>648</td>\n",
       "      <td>181</td>\n",
       "      <td>452</td>\n",
       "      <td>575</td>\n",
       "      <td>434</td>\n",
       "      <td>517</td>\n",
       "      <td>414</td>\n",
       "      <td>658</td>\n",
       "      <td>...</td>\n",
       "      <td>419</td>\n",
       "      <td>533</td>\n",
       "      <td>568</td>\n",
       "      <td>463</td>\n",
       "      <td>471</td>\n",
       "      <td>630</td>\n",
       "      <td>515</td>\n",
       "      <td>401</td>\n",
       "      <td>485</td>\n",
       "      <td>-1</td>\n",
       "    </tr>\n",
       "    <tr>\n",
       "      <th>1</th>\n",
       "      <td>475</td>\n",
       "      <td>499</td>\n",
       "      <td>488</td>\n",
       "      <td>431</td>\n",
       "      <td>473</td>\n",
       "      <td>404</td>\n",
       "      <td>551</td>\n",
       "      <td>435</td>\n",
       "      <td>469</td>\n",
       "      <td>469</td>\n",
       "      <td>...</td>\n",
       "      <td>526</td>\n",
       "      <td>442</td>\n",
       "      <td>463</td>\n",
       "      <td>474</td>\n",
       "      <td>311</td>\n",
       "      <td>582</td>\n",
       "      <td>465</td>\n",
       "      <td>549</td>\n",
       "      <td>338</td>\n",
       "      <td>-1</td>\n",
       "    </tr>\n",
       "    <tr>\n",
       "      <th>2</th>\n",
       "      <td>491</td>\n",
       "      <td>460</td>\n",
       "      <td>485</td>\n",
       "      <td>593</td>\n",
       "      <td>487</td>\n",
       "      <td>585</td>\n",
       "      <td>474</td>\n",
       "      <td>535</td>\n",
       "      <td>506</td>\n",
       "      <td>465</td>\n",
       "      <td>...</td>\n",
       "      <td>464</td>\n",
       "      <td>569</td>\n",
       "      <td>503</td>\n",
       "      <td>481</td>\n",
       "      <td>606</td>\n",
       "      <td>424</td>\n",
       "      <td>485</td>\n",
       "      <td>454</td>\n",
       "      <td>650</td>\n",
       "      <td>-1</td>\n",
       "    </tr>\n",
       "    <tr>\n",
       "      <th>3</th>\n",
       "      <td>472</td>\n",
       "      <td>529</td>\n",
       "      <td>415</td>\n",
       "      <td>698</td>\n",
       "      <td>493</td>\n",
       "      <td>591</td>\n",
       "      <td>569</td>\n",
       "      <td>526</td>\n",
       "      <td>458</td>\n",
       "      <td>398</td>\n",
       "      <td>...</td>\n",
       "      <td>553</td>\n",
       "      <td>565</td>\n",
       "      <td>447</td>\n",
       "      <td>472</td>\n",
       "      <td>545</td>\n",
       "      <td>456</td>\n",
       "      <td>457</td>\n",
       "      <td>602</td>\n",
       "      <td>572</td>\n",
       "      <td>1</td>\n",
       "    </tr>\n",
       "    <tr>\n",
       "      <th>4</th>\n",
       "      <td>472</td>\n",
       "      <td>429</td>\n",
       "      <td>387</td>\n",
       "      <td>451</td>\n",
       "      <td>475</td>\n",
       "      <td>448</td>\n",
       "      <td>538</td>\n",
       "      <td>456</td>\n",
       "      <td>462</td>\n",
       "      <td>385</td>\n",
       "      <td>...</td>\n",
       "      <td>424</td>\n",
       "      <td>462</td>\n",
       "      <td>536</td>\n",
       "      <td>472</td>\n",
       "      <td>426</td>\n",
       "      <td>465</td>\n",
       "      <td>500</td>\n",
       "      <td>560</td>\n",
       "      <td>435</td>\n",
       "      <td>1</td>\n",
       "    </tr>\n",
       "  </tbody>\n",
       "</table>\n",
       "<p>5 rows × 21 columns</p>\n",
       "</div>"
      ],
      "text/plain": [
       "    28   48   64  105  128  153  241  281  318  336   ...    378  433  442  \\\n",
       "0  459  440  648  181  452  575  434  517  414  658   ...    419  533  568   \n",
       "1  475  499  488  431  473  404  551  435  469  469   ...    526  442  463   \n",
       "2  491  460  485  593  487  585  474  535  506  465   ...    464  569  503   \n",
       "3  472  529  415  698  493  591  569  526  458  398   ...    553  565  447   \n",
       "4  472  429  387  451  475  448  538  456  462  385   ...    424  462  536   \n",
       "\n",
       "   451  453  455  472  475  493  target  \n",
       "0  463  471  630  515  401  485      -1  \n",
       "1  474  311  582  465  549  338      -1  \n",
       "2  481  606  424  485  454  650      -1  \n",
       "3  472  545  456  457  602  572       1  \n",
       "4  472  426  465  500  560  435       1  \n",
       "\n",
       "[5 rows x 21 columns]"
      ]
     },
     "execution_count": 3,
     "metadata": {},
     "output_type": "execute_result"
    }
   ],
   "source": [
    "df.head()"
   ]
  },
  {
   "cell_type": "code",
   "execution_count": 4,
   "metadata": {},
   "outputs": [
    {
     "data": {
      "text/plain": [
       "(2600, 21)"
      ]
     },
     "execution_count": 4,
     "metadata": {},
     "output_type": "execute_result"
    }
   ],
   "source": [
    "df.shape"
   ]
  },
  {
   "cell_type": "code",
   "execution_count": 5,
   "metadata": {
    "scrolled": false
   },
   "outputs": [],
   "source": [
    "predictors = df[df.columns[0:20]]\n",
    "target = df[df.columns[20]]"
   ]
  },
  {
   "cell_type": "code",
   "execution_count": 6,
   "metadata": {},
   "outputs": [],
   "source": [
    "X_train, X_test, y_train, y_test = train_test_split(predictors, target, test_size = .2, random_state = 42)"
   ]
  },
  {
   "cell_type": "markdown",
   "metadata": {},
   "source": [
    "Min Max Scaling (as contingency against 0's and negatives)"
   ]
  },
  {
   "cell_type": "code",
   "execution_count": 7,
   "metadata": {},
   "outputs": [],
   "source": [
    "min_max = MinMaxScaler(feature_range=(0.0001, 1))\n",
    "X_train_sc = pd.DataFrame(min_max.fit_transform(X_train))\n",
    "X_test_sc = pd.DataFrame(min_max.fit_transform(X_test))"
   ]
  },
  {
   "cell_type": "markdown",
   "metadata": {},
   "source": [
    "Deskewing"
   ]
  },
  {
   "cell_type": "code",
   "execution_count": 8,
   "metadata": {},
   "outputs": [],
   "source": [
    "def box_cox(train_df, test_df):\n",
    "    '''Input X_train and X_test to get those dataframes deskewed'''\n",
    "    X_train_bc = pd.DataFrame()\n",
    "    X_test_bc = pd.DataFrame()\n",
    "    for col in train_df.columns:\n",
    "        box_cox_train, lmbda = boxcox(train_df[col])\n",
    "        box_cox_test = boxcox(test_df[col], lmbda)\n",
    "        X_train_bc[col] = pd.Series(box_cox_train)\n",
    "        X_test_bc[col] = pd.Series(box_cox_test)\n",
    "    \n",
    "    return X_train_bc, X_test_bc"
   ]
  },
  {
   "cell_type": "code",
   "execution_count": 9,
   "metadata": {},
   "outputs": [],
   "source": [
    "X_train_bc, X_test_bc = box_cox(X_train_sc, X_test_sc)"
   ]
  },
  {
   "cell_type": "markdown",
   "metadata": {},
   "source": [
    "PCA"
   ]
  },
  {
   "cell_type": "code",
   "execution_count": 10,
   "metadata": {},
   "outputs": [],
   "source": [
    "pca = PCA(n_components = 5)\n",
    "X_train_comp = pca.fit_transform(X_train_bc)\n",
    "X_test_comp = pca.transform(X_test_bc)"
   ]
  },
  {
   "cell_type": "markdown",
   "metadata": {},
   "source": [
    "I could have put the standard scaler here and taken it out of pipelines"
   ]
  },
  {
   "cell_type": "markdown",
   "metadata": {},
   "source": [
    "### Logistic Regression ###"
   ]
  },
  {
   "cell_type": "code",
   "execution_count": 11,
   "metadata": {},
   "outputs": [],
   "source": [
    "scaler = StandardScaler()\n",
    "log_reg = LogisticRegression()\n",
    "pipe_log_reg = Pipeline([\n",
    "    ('scaler', scaler), \n",
    "    ('log_reg', log_reg)\n",
    "])"
   ]
  },
  {
   "cell_type": "code",
   "execution_count": 12,
   "metadata": {},
   "outputs": [],
   "source": [
    "log_reg_params = {\n",
    "    'log_reg__penalty' : ['l1', 'l2'],\n",
    "    'log_reg__C' : np.logspace(-10,-1,10)\n",
    "}"
   ]
  },
  {
   "cell_type": "code",
   "execution_count": 13,
   "metadata": {},
   "outputs": [],
   "source": [
    "grd_log_reg = GridSearchCV(pipe_log_reg, log_reg_params, cv = 5)"
   ]
  },
  {
   "cell_type": "code",
   "execution_count": 14,
   "metadata": {},
   "outputs": [
    {
     "data": {
      "text/plain": [
       "GridSearchCV(cv=5, error_score='raise',\n",
       "       estimator=Pipeline(steps=[('scaler', StandardScaler(copy=True, with_mean=True, with_std=True)), ('log_reg', LogisticRegression(C=1.0, class_weight=None, dual=False, fit_intercept=True,\n",
       "          intercept_scaling=1, max_iter=100, multi_class='ovr', n_jobs=1,\n",
       "          penalty='l2', random_state=None, solver='liblinear', tol=0.0001,\n",
       "          verbose=0, warm_start=False))]),\n",
       "       fit_params={}, iid=True, n_jobs=1,\n",
       "       param_grid={'log_reg__penalty': ['l1', 'l2'], 'log_reg__C': array([  1.00000e-10,   1.00000e-09,   1.00000e-08,   1.00000e-07,\n",
       "         1.00000e-06,   1.00000e-05,   1.00000e-04,   1.00000e-03,\n",
       "         1.00000e-02,   1.00000e-01])},\n",
       "       pre_dispatch='2*n_jobs', refit=True, return_train_score=True,\n",
       "       scoring=None, verbose=0)"
      ]
     },
     "execution_count": 14,
     "metadata": {},
     "output_type": "execute_result"
    }
   ],
   "source": [
    "grd_log_reg.fit(X_train_comp, y_train)"
   ]
  },
  {
   "cell_type": "code",
   "execution_count": 15,
   "metadata": {
    "scrolled": true
   },
   "outputs": [
    {
     "data": {
      "text/plain": [
       "{'log_reg__C': 1e-10, 'log_reg__penalty': 'l2'}"
      ]
     },
     "execution_count": 15,
     "metadata": {},
     "output_type": "execute_result"
    }
   ],
   "source": [
    "grd_log_reg.best_params_"
   ]
  },
  {
   "cell_type": "code",
   "execution_count": 16,
   "metadata": {
    "scrolled": false
   },
   "outputs": [
    {
     "data": {
      "text/plain": [
       "0.61057692307692313"
      ]
     },
     "execution_count": 16,
     "metadata": {},
     "output_type": "execute_result"
    }
   ],
   "source": [
    "grd_log_reg.score(X_train_comp, y_train)"
   ]
  },
  {
   "cell_type": "code",
   "execution_count": 17,
   "metadata": {
    "scrolled": true
   },
   "outputs": [
    {
     "data": {
      "text/plain": [
       "0.61923076923076925"
      ]
     },
     "execution_count": 17,
     "metadata": {},
     "output_type": "execute_result"
    }
   ],
   "source": [
    "grd_log_reg.score(X_test_comp, y_test)"
   ]
  },
  {
   "cell_type": "code",
   "execution_count": 18,
   "metadata": {
    "scrolled": true
   },
   "outputs": [
    {
     "name": "stdout",
     "output_type": "stream",
     "text": [
      "Accuracy Score: 0.619230769231\n"
     ]
    }
   ],
   "source": [
    "print(\"Accuracy Score:\", accuracy_score(y_test, grd_log_reg.predict(X_test_comp)))"
   ]
  },
  {
   "cell_type": "code",
   "execution_count": 19,
   "metadata": {
    "scrolled": false
   },
   "outputs": [
    {
     "name": "stdout",
     "output_type": "stream",
     "text": [
      "ROC AUC Score: 0.618780606886\n"
     ]
    }
   ],
   "source": [
    "print(\"ROC AUC Score:\", roc_auc_score(y_test, grd_log_reg.predict(X_test_comp)))"
   ]
  },
  {
   "cell_type": "code",
   "execution_count": 20,
   "metadata": {
    "scrolled": false
   },
   "outputs": [
    {
     "name": "stdout",
     "output_type": "stream",
     "text": [
      "Log Loss: 13.1514417115\n"
     ]
    }
   ],
   "source": [
    "print(\"Log Loss:\", log_loss(y_test, grd_log_reg.predict(X_test_comp)))"
   ]
  },
  {
   "cell_type": "markdown",
   "metadata": {},
   "source": [
    "*Accuracy Score:* 0.619\n",
    "\n",
    "*ROC AUC Score:* 0.619\n",
    "\n",
    "*Log Loss:* 13.151"
   ]
  },
  {
   "cell_type": "markdown",
   "metadata": {},
   "source": [
    "**Results:** The data isn't linear, so this model doesn't perform well."
   ]
  },
  {
   "cell_type": "markdown",
   "metadata": {},
   "source": [
    "### Decision Tree "
   ]
  },
  {
   "cell_type": "code",
   "execution_count": 21,
   "metadata": {},
   "outputs": [],
   "source": [
    "scaler = StandardScaler()\n",
    "dt_clf = DecisionTreeClassifier()\n",
    "pipe_dt_clf = Pipeline([\n",
    "    ('scaler', scaler), \n",
    "    ('dt_clf', dt_clf)\n",
    "])"
   ]
  },
  {
   "cell_type": "code",
   "execution_count": 22,
   "metadata": {},
   "outputs": [],
   "source": [
    "dt_clf_params = {\n",
    "    'dt_clf__criterion' : ['gini', 'entropy'],\n",
    "    'dt_clf__min_samples_split' : range(2,11)\n",
    "}"
   ]
  },
  {
   "cell_type": "code",
   "execution_count": 23,
   "metadata": {},
   "outputs": [],
   "source": [
    "grd_dt_clf = GridSearchCV(pipe_dt_clf, dt_clf_params, cv = 5)"
   ]
  },
  {
   "cell_type": "code",
   "execution_count": 24,
   "metadata": {
    "scrolled": true
   },
   "outputs": [
    {
     "data": {
      "text/plain": [
       "GridSearchCV(cv=5, error_score='raise',\n",
       "       estimator=Pipeline(steps=[('scaler', StandardScaler(copy=True, with_mean=True, with_std=True)), ('dt_clf', DecisionTreeClassifier(class_weight=None, criterion='gini', max_depth=None,\n",
       "            max_features=None, max_leaf_nodes=None,\n",
       "            min_impurity_split=1e-07, min_samples_leaf=1,\n",
       "            min_samples_split=2, min_weight_fraction_leaf=0.0,\n",
       "            presort=False, random_state=None, splitter='best'))]),\n",
       "       fit_params={}, iid=True, n_jobs=1,\n",
       "       param_grid={'dt_clf__criterion': ['gini', 'entropy'], 'dt_clf__min_samples_split': range(2, 11)},\n",
       "       pre_dispatch='2*n_jobs', refit=True, return_train_score=True,\n",
       "       scoring=None, verbose=0)"
      ]
     },
     "execution_count": 24,
     "metadata": {},
     "output_type": "execute_result"
    }
   ],
   "source": [
    "grd_dt_clf.fit(X_train_comp, y_train)"
   ]
  },
  {
   "cell_type": "code",
   "execution_count": 25,
   "metadata": {
    "scrolled": true
   },
   "outputs": [
    {
     "data": {
      "text/plain": [
       "{'dt_clf__criterion': 'gini', 'dt_clf__min_samples_split': 9}"
      ]
     },
     "execution_count": 25,
     "metadata": {},
     "output_type": "execute_result"
    }
   ],
   "source": [
    "grd_dt_clf.best_params_"
   ]
  },
  {
   "cell_type": "code",
   "execution_count": 26,
   "metadata": {
    "scrolled": false
   },
   "outputs": [
    {
     "data": {
      "text/plain": [
       "0.95865384615384619"
      ]
     },
     "execution_count": 26,
     "metadata": {},
     "output_type": "execute_result"
    }
   ],
   "source": [
    "grd_dt_clf.score(X_train_comp, y_train)"
   ]
  },
  {
   "cell_type": "code",
   "execution_count": 27,
   "metadata": {
    "scrolled": true
   },
   "outputs": [
    {
     "data": {
      "text/plain": [
       "0.77307692307692311"
      ]
     },
     "execution_count": 27,
     "metadata": {},
     "output_type": "execute_result"
    }
   ],
   "source": [
    "grd_dt_clf.score(X_test_comp, y_test)"
   ]
  },
  {
   "cell_type": "code",
   "execution_count": 28,
   "metadata": {
    "scrolled": true
   },
   "outputs": [
    {
     "name": "stdout",
     "output_type": "stream",
     "text": [
      "Accuracy Score: 0.773076923077\n"
     ]
    }
   ],
   "source": [
    "print(\"Accuracy Score:\", accuracy_score(y_test, grd_dt_clf.predict(X_test_comp)))"
   ]
  },
  {
   "cell_type": "code",
   "execution_count": 29,
   "metadata": {
    "scrolled": true
   },
   "outputs": [
    {
     "name": "stdout",
     "output_type": "stream",
     "text": [
      "ROC AUC Score: 0.77273601515\n"
     ]
    }
   ],
   "source": [
    "print(\"ROC AUC Score:\", roc_auc_score(y_test, grd_dt_clf.predict(X_test_comp)))"
   ]
  },
  {
   "cell_type": "code",
   "execution_count": 30,
   "metadata": {
    "scrolled": false
   },
   "outputs": [
    {
     "name": "stdout",
     "output_type": "stream",
     "text": [
      "Log Loss: 7.83772537243\n"
     ]
    }
   ],
   "source": [
    "print(\"Log Loss:\", log_loss(y_test, grd_dt_clf.predict(X_test_comp)))"
   ]
  },
  {
   "cell_type": "markdown",
   "metadata": {},
   "source": [
    "*Accuracy Score:* 0.773\n",
    "\n",
    "*ROC AUC Score:* 0.773\n",
    "\n",
    "*Log Loss:* 7.838"
   ]
  },
  {
   "cell_type": "markdown",
   "metadata": {},
   "source": [
    "### K Nearest Neighbors "
   ]
  },
  {
   "cell_type": "code",
   "execution_count": 31,
   "metadata": {},
   "outputs": [],
   "source": [
    "scaler = StandardScaler()\n",
    "knn = KNeighborsClassifier()\n",
    "pipe_knn = Pipeline([\n",
    "    ('scaler', scaler), \n",
    "    ('knn', knn)\n",
    "])"
   ]
  },
  {
   "cell_type": "code",
   "execution_count": 32,
   "metadata": {},
   "outputs": [],
   "source": [
    "knn_params = {\n",
    "    'knn__n_neighbors' : range(1,11),\n",
    "    'knn__weights' : ['uniform', 'distance'],\n",
    "    'knn__leaf_size' : [2, 5, 10, 15, 20, 25, 30, 35]\n",
    "}"
   ]
  },
  {
   "cell_type": "code",
   "execution_count": 33,
   "metadata": {},
   "outputs": [],
   "source": [
    "grd_knn = GridSearchCV(pipe_knn, knn_params, cv = 5)"
   ]
  },
  {
   "cell_type": "code",
   "execution_count": 34,
   "metadata": {},
   "outputs": [
    {
     "data": {
      "text/plain": [
       "GridSearchCV(cv=5, error_score='raise',\n",
       "       estimator=Pipeline(steps=[('scaler', StandardScaler(copy=True, with_mean=True, with_std=True)), ('knn', KNeighborsClassifier(algorithm='auto', leaf_size=30, metric='minkowski',\n",
       "           metric_params=None, n_jobs=1, n_neighbors=5, p=2,\n",
       "           weights='uniform'))]),\n",
       "       fit_params={}, iid=True, n_jobs=1,\n",
       "       param_grid={'knn__n_neighbors': range(1, 11), 'knn__weights': ['uniform', 'distance'], 'knn__leaf_size': [2, 5, 10, 15, 20, 25, 30, 35]},\n",
       "       pre_dispatch='2*n_jobs', refit=True, return_train_score=True,\n",
       "       scoring=None, verbose=0)"
      ]
     },
     "execution_count": 34,
     "metadata": {},
     "output_type": "execute_result"
    }
   ],
   "source": [
    "grd_knn.fit(X_train_comp, y_train)"
   ]
  },
  {
   "cell_type": "code",
   "execution_count": 35,
   "metadata": {
    "scrolled": true
   },
   "outputs": [
    {
     "data": {
      "text/plain": [
       "{'knn__leaf_size': 2, 'knn__n_neighbors': 4, 'knn__weights': 'distance'}"
      ]
     },
     "execution_count": 35,
     "metadata": {},
     "output_type": "execute_result"
    }
   ],
   "source": [
    "grd_knn.best_params_"
   ]
  },
  {
   "cell_type": "code",
   "execution_count": 36,
   "metadata": {
    "scrolled": false
   },
   "outputs": [
    {
     "data": {
      "text/plain": [
       "1.0"
      ]
     },
     "execution_count": 36,
     "metadata": {},
     "output_type": "execute_result"
    }
   ],
   "source": [
    "grd_knn.score(X_train_comp, y_train)"
   ]
  },
  {
   "cell_type": "code",
   "execution_count": 37,
   "metadata": {
    "scrolled": true
   },
   "outputs": [
    {
     "data": {
      "text/plain": [
       "0.88846153846153841"
      ]
     },
     "execution_count": 37,
     "metadata": {},
     "output_type": "execute_result"
    }
   ],
   "source": [
    "grd_knn.score(X_test_comp, y_test)"
   ]
  },
  {
   "cell_type": "code",
   "execution_count": 38,
   "metadata": {
    "scrolled": true
   },
   "outputs": [
    {
     "name": "stdout",
     "output_type": "stream",
     "text": [
      "Accuracy Score: 0.888461538462\n"
     ]
    }
   ],
   "source": [
    "print(\"Accuracy Score:\", accuracy_score(y_test, grd_knn.predict(X_test_comp)))"
   ]
  },
  {
   "cell_type": "code",
   "execution_count": 39,
   "metadata": {
    "scrolled": true
   },
   "outputs": [
    {
     "name": "stdout",
     "output_type": "stream",
     "text": [
      "ROC AUC Score: 0.888535455904\n"
     ]
    }
   ],
   "source": [
    "print(\"ROC AUC Score:\", roc_auc_score(y_test, grd_knn.predict(X_test_comp)))"
   ]
  },
  {
   "cell_type": "code",
   "execution_count": 40,
   "metadata": {
    "scrolled": false
   },
   "outputs": [
    {
     "name": "stdout",
     "output_type": "stream",
     "text": [
      "Log Loss: 3.85244965082\n"
     ]
    }
   ],
   "source": [
    "print(\"Log Loss:\", log_loss(y_test, grd_knn.predict(X_test_comp)))"
   ]
  },
  {
   "cell_type": "markdown",
   "metadata": {},
   "source": [
    "*Accuracy Score:* 0.889\n",
    "\n",
    "*ROC AUC Score:* 0.889\n",
    "\n",
    "*Log Loss:* 3.852"
   ]
  },
  {
   "cell_type": "markdown",
   "metadata": {},
   "source": [
    "### Support Vector Classifier "
   ]
  },
  {
   "cell_type": "code",
   "execution_count": 41,
   "metadata": {},
   "outputs": [],
   "source": [
    "scaler = StandardScaler()\n",
    "svc = SVC()\n",
    "pipe_svc = Pipeline([\n",
    "    ('scaler', scaler), \n",
    "    ('svc', svc)\n",
    "])"
   ]
  },
  {
   "cell_type": "code",
   "execution_count": 42,
   "metadata": {},
   "outputs": [],
   "source": [
    "svc_params = {\n",
    "    'svc__C' : np.logspace(-10,-1,10),\n",
    "    'svc__kernel' : ['rbf', 'linear', 'poly']\n",
    "}"
   ]
  },
  {
   "cell_type": "code",
   "execution_count": 43,
   "metadata": {},
   "outputs": [],
   "source": [
    "grd_svc = GridSearchCV(pipe_svc, svc_params, cv = 5)"
   ]
  },
  {
   "cell_type": "code",
   "execution_count": 44,
   "metadata": {},
   "outputs": [
    {
     "data": {
      "text/plain": [
       "GridSearchCV(cv=5, error_score='raise',\n",
       "       estimator=Pipeline(steps=[('scaler', StandardScaler(copy=True, with_mean=True, with_std=True)), ('svc', SVC(C=1.0, cache_size=200, class_weight=None, coef0=0.0,\n",
       "  decision_function_shape=None, degree=3, gamma='auto', kernel='rbf',\n",
       "  max_iter=-1, probability=False, random_state=None, shrinking=True,\n",
       "  tol=0.001, verbose=False))]),\n",
       "       fit_params={}, iid=True, n_jobs=1,\n",
       "       param_grid={'svc__C': array([  1.00000e-10,   1.00000e-09,   1.00000e-08,   1.00000e-07,\n",
       "         1.00000e-06,   1.00000e-05,   1.00000e-04,   1.00000e-03,\n",
       "         1.00000e-02,   1.00000e-01]), 'svc__kernel': ['rbf', 'linear', 'poly']},\n",
       "       pre_dispatch='2*n_jobs', refit=True, return_train_score=True,\n",
       "       scoring=None, verbose=0)"
      ]
     },
     "execution_count": 44,
     "metadata": {},
     "output_type": "execute_result"
    }
   ],
   "source": [
    "grd_svc.fit(X_train_comp, y_train)"
   ]
  },
  {
   "cell_type": "code",
   "execution_count": 45,
   "metadata": {
    "scrolled": true
   },
   "outputs": [
    {
     "data": {
      "text/plain": [
       "{'svc__C': 0.10000000000000001, 'svc__kernel': 'rbf'}"
      ]
     },
     "execution_count": 45,
     "metadata": {},
     "output_type": "execute_result"
    }
   ],
   "source": [
    "grd_svc.best_params_"
   ]
  },
  {
   "cell_type": "code",
   "execution_count": 46,
   "metadata": {
    "scrolled": false
   },
   "outputs": [
    {
     "data": {
      "text/plain": [
       "0.8009615384615385"
      ]
     },
     "execution_count": 46,
     "metadata": {},
     "output_type": "execute_result"
    }
   ],
   "source": [
    "grd_svc.score(X_train_comp, y_train)"
   ]
  },
  {
   "cell_type": "code",
   "execution_count": 47,
   "metadata": {
    "scrolled": true
   },
   "outputs": [
    {
     "data": {
      "text/plain": [
       "0.80000000000000004"
      ]
     },
     "execution_count": 47,
     "metadata": {},
     "output_type": "execute_result"
    }
   ],
   "source": [
    "grd_svc.score(X_test_comp, y_test)"
   ]
  },
  {
   "cell_type": "code",
   "execution_count": 48,
   "metadata": {
    "scrolled": true
   },
   "outputs": [
    {
     "name": "stdout",
     "output_type": "stream",
     "text": [
      "Accuracy Score: 0.8\n"
     ]
    }
   ],
   "source": [
    "print(\"Accuracy Score:\", accuracy_score(y_test, grd_svc.predict(X_test_comp)))"
   ]
  },
  {
   "cell_type": "code",
   "execution_count": 49,
   "metadata": {
    "scrolled": true
   },
   "outputs": [
    {
     "name": "stdout",
     "output_type": "stream",
     "text": [
      "ROC AUC Score: 0.799529523161\n"
     ]
    }
   ],
   "source": [
    "print(\"ROC AUC Score:\", roc_auc_score(y_test, grd_svc.predict(X_test_comp)))"
   ]
  },
  {
   "cell_type": "code",
   "execution_count": 50,
   "metadata": {
    "scrolled": false
   },
   "outputs": [
    {
     "name": "stdout",
     "output_type": "stream",
     "text": [
      "Log Loss: 6.90781986185\n"
     ]
    }
   ],
   "source": [
    "print(\"Log Loss:\", log_loss(y_test, grd_svc.predict(X_test_comp)))"
   ]
  },
  {
   "cell_type": "markdown",
   "metadata": {},
   "source": [
    "*Accuracy Score:* 0.800\n",
    "\n",
    "*ROC AUC Score:* 0.800\n",
    "\n",
    "*Log Loss:* 6.907"
   ]
  },
  {
   "cell_type": "code",
   "execution_count": null,
   "metadata": {},
   "outputs": [],
   "source": []
  }
 ],
 "metadata": {
  "kernelspec": {
   "display_name": "Python 3",
   "language": "python",
   "name": "python3"
  },
  "language_info": {
   "codemirror_mode": {
    "name": "ipython",
    "version": 3
   },
   "file_extension": ".py",
   "mimetype": "text/x-python",
   "name": "python",
   "nbconvert_exporter": "python",
   "pygments_lexer": "ipython3",
   "version": "3.6.2"
  }
 },
 "nbformat": 4,
 "nbformat_minor": 2
}
