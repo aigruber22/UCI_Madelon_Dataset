{
 "cells": [
  {
   "cell_type": "markdown",
   "metadata": {},
   "source": [
    "## Modeling Results ##"
   ]
  },
  {
   "cell_type": "markdown",
   "metadata": {},
   "source": [
    "***Description of notebook:***\n",
    "\n",
    "In alignment with the benchmarking notebook, I modeled the sample on these four models: Logistic Regression, Decision Tree, K Nearest Neighbors, and Support Vector Classifier.\n",
    "\n",
    "The full steps of modeling:\n",
    "1. Train Test Split\n",
    "2. Min Max Scaler\n",
    "3. Deskewing (Boxcox)\n",
    "4. PCA (5 components)\n",
    "5. Standard Scaler\n",
    "6. Model\n",
    "\n",
    "Steps 5 and 6 were built into a pipeline and gridsearched on to tune hyperparameters.\n",
    "\n",
    "The best performing model was K Nearest Neighbors with an ROC AUC Score of .744 and Log Loss of 8.844."
   ]
  },
  {
   "cell_type": "markdown",
   "metadata": {},
   "source": [
    "### Results ###"
   ]
  },
  {
   "cell_type": "markdown",
   "metadata": {},
   "source": [
    "**Logistic Regression:**"
   ]
  },
  {
   "cell_type": "markdown",
   "metadata": {},
   "source": [
    "*ROC AUC Score:* 0.588\n",
    "\n",
    "*Log Loss:* 14.208"
   ]
  },
  {
   "cell_type": "markdown",
   "metadata": {},
   "source": [
    "**Decision Tree:**"
   ]
  },
  {
   "cell_type": "markdown",
   "metadata": {},
   "source": [
    "*ROC AUC Score:* 0.658\n",
    "\n",
    "*Log Loss:* 11.800"
   ]
  },
  {
   "cell_type": "markdown",
   "metadata": {},
   "source": [
    "**K Nearest Neighbors:**"
   ]
  },
  {
   "cell_type": "markdown",
   "metadata": {},
   "source": [
    "*ROC AUC Score:* 0.744\n",
    "\n",
    "*Log Loss:* 8.844"
   ]
  },
  {
   "cell_type": "markdown",
   "metadata": {},
   "source": [
    "**Support Vector Classifier:**"
   ]
  },
  {
   "cell_type": "markdown",
   "metadata": {},
   "source": [
    "*ROC AUC Score:* 0.711\n",
    "\n",
    "*Log Loss:* 9.969"
   ]
  },
  {
   "cell_type": "code",
   "execution_count": 1,
   "metadata": {},
   "outputs": [],
   "source": [
    "% run __init__.py"
   ]
  },
  {
   "cell_type": "code",
   "execution_count": 2,
   "metadata": {
    "scrolled": false
   },
   "outputs": [],
   "source": [
    "df = pd.read_pickle('data/elite_cook_df_1.p')\n",
    "# df = pd.read_pickle('data/elite_cook_df_2.p')\n",
    "# df = pd.read_pickle('data/elite_cook_df_3.p')"
   ]
  },
  {
   "cell_type": "code",
   "execution_count": 3,
   "metadata": {
    "scrolled": true
   },
   "outputs": [
    {
     "data": {
      "text/html": [
       "<div>\n",
       "<table border=\"1\" class=\"dataframe\">\n",
       "  <thead>\n",
       "    <tr style=\"text-align: right;\">\n",
       "      <th></th>\n",
       "      <th>feat_257</th>\n",
       "      <th>feat_269</th>\n",
       "      <th>feat_308</th>\n",
       "      <th>feat_315</th>\n",
       "      <th>feat_336</th>\n",
       "      <th>feat_341</th>\n",
       "      <th>feat_395</th>\n",
       "      <th>feat_504</th>\n",
       "      <th>feat_526</th>\n",
       "      <th>feat_639</th>\n",
       "      <th>...</th>\n",
       "      <th>feat_701</th>\n",
       "      <th>feat_724</th>\n",
       "      <th>feat_736</th>\n",
       "      <th>feat_769</th>\n",
       "      <th>feat_808</th>\n",
       "      <th>feat_829</th>\n",
       "      <th>feat_867</th>\n",
       "      <th>feat_920</th>\n",
       "      <th>feat_956</th>\n",
       "      <th>target</th>\n",
       "    </tr>\n",
       "    <tr>\n",
       "      <th>_id</th>\n",
       "      <th></th>\n",
       "      <th></th>\n",
       "      <th></th>\n",
       "      <th></th>\n",
       "      <th></th>\n",
       "      <th></th>\n",
       "      <th></th>\n",
       "      <th></th>\n",
       "      <th></th>\n",
       "      <th></th>\n",
       "      <th></th>\n",
       "      <th></th>\n",
       "      <th></th>\n",
       "      <th></th>\n",
       "      <th></th>\n",
       "      <th></th>\n",
       "      <th></th>\n",
       "      <th></th>\n",
       "      <th></th>\n",
       "      <th></th>\n",
       "      <th></th>\n",
       "    </tr>\n",
       "  </thead>\n",
       "  <tbody>\n",
       "    <tr>\n",
       "      <th>0</th>\n",
       "      <td>2.281363</td>\n",
       "      <td>-7.723766</td>\n",
       "      <td>2.714832</td>\n",
       "      <td>-5.484510</td>\n",
       "      <td>-0.132036</td>\n",
       "      <td>-1.595268</td>\n",
       "      <td>-2.471070</td>\n",
       "      <td>3.052163</td>\n",
       "      <td>-2.941691</td>\n",
       "      <td>4.063693</td>\n",
       "      <td>...</td>\n",
       "      <td>7.306688</td>\n",
       "      <td>2.522409</td>\n",
       "      <td>-3.659442</td>\n",
       "      <td>1.333602</td>\n",
       "      <td>1.103701</td>\n",
       "      <td>0.586460</td>\n",
       "      <td>-2.226438</td>\n",
       "      <td>1.503807</td>\n",
       "      <td>4.029951</td>\n",
       "      <td>0</td>\n",
       "    </tr>\n",
       "    <tr>\n",
       "      <th>1</th>\n",
       "      <td>2.121323</td>\n",
       "      <td>-1.699388</td>\n",
       "      <td>1.057814</td>\n",
       "      <td>-1.591032</td>\n",
       "      <td>0.134624</td>\n",
       "      <td>-0.391734</td>\n",
       "      <td>-2.183157</td>\n",
       "      <td>0.747105</td>\n",
       "      <td>0.304999</td>\n",
       "      <td>1.371453</td>\n",
       "      <td>...</td>\n",
       "      <td>0.776931</td>\n",
       "      <td>2.126583</td>\n",
       "      <td>-1.507735</td>\n",
       "      <td>1.199454</td>\n",
       "      <td>-0.620077</td>\n",
       "      <td>2.250227</td>\n",
       "      <td>-0.015265</td>\n",
       "      <td>-0.975844</td>\n",
       "      <td>1.588398</td>\n",
       "      <td>1</td>\n",
       "    </tr>\n",
       "    <tr>\n",
       "      <th>2</th>\n",
       "      <td>1.415074</td>\n",
       "      <td>4.546333</td>\n",
       "      <td>2.662465</td>\n",
       "      <td>1.619146</td>\n",
       "      <td>-1.696918</td>\n",
       "      <td>0.740744</td>\n",
       "      <td>-2.675854</td>\n",
       "      <td>-1.896792</td>\n",
       "      <td>2.461117</td>\n",
       "      <td>-1.756148</td>\n",
       "      <td>...</td>\n",
       "      <td>-5.638710</td>\n",
       "      <td>0.676838</td>\n",
       "      <td>-1.709226</td>\n",
       "      <td>0.178925</td>\n",
       "      <td>-0.924365</td>\n",
       "      <td>3.118753</td>\n",
       "      <td>3.521908</td>\n",
       "      <td>-4.303822</td>\n",
       "      <td>-0.800297</td>\n",
       "      <td>1</td>\n",
       "    </tr>\n",
       "    <tr>\n",
       "      <th>3</th>\n",
       "      <td>-1.381832</td>\n",
       "      <td>2.080511</td>\n",
       "      <td>-0.362144</td>\n",
       "      <td>2.247193</td>\n",
       "      <td>-2.073514</td>\n",
       "      <td>-1.337430</td>\n",
       "      <td>-0.293574</td>\n",
       "      <td>-1.079409</td>\n",
       "      <td>1.860341</td>\n",
       "      <td>-2.603941</td>\n",
       "      <td>...</td>\n",
       "      <td>-3.284469</td>\n",
       "      <td>-0.542681</td>\n",
       "      <td>-0.039577</td>\n",
       "      <td>0.869894</td>\n",
       "      <td>0.508969</td>\n",
       "      <td>-1.037677</td>\n",
       "      <td>2.104805</td>\n",
       "      <td>-0.941140</td>\n",
       "      <td>-2.426835</td>\n",
       "      <td>0</td>\n",
       "    </tr>\n",
       "    <tr>\n",
       "      <th>4</th>\n",
       "      <td>0.382663</td>\n",
       "      <td>-0.370281</td>\n",
       "      <td>-1.425611</td>\n",
       "      <td>-0.347839</td>\n",
       "      <td>0.252554</td>\n",
       "      <td>-2.266020</td>\n",
       "      <td>-1.379550</td>\n",
       "      <td>-2.961905</td>\n",
       "      <td>1.344314</td>\n",
       "      <td>-1.465974</td>\n",
       "      <td>...</td>\n",
       "      <td>0.118513</td>\n",
       "      <td>2.685094</td>\n",
       "      <td>0.376503</td>\n",
       "      <td>0.385132</td>\n",
       "      <td>-1.534524</td>\n",
       "      <td>-1.938277</td>\n",
       "      <td>-0.788077</td>\n",
       "      <td>1.947159</td>\n",
       "      <td>-1.075181</td>\n",
       "      <td>0</td>\n",
       "    </tr>\n",
       "  </tbody>\n",
       "</table>\n",
       "<p>5 rows × 21 columns</p>\n",
       "</div>"
      ],
      "text/plain": [
       "     feat_257  feat_269  feat_308  feat_315  feat_336  feat_341  feat_395  \\\n",
       "_id                                                                         \n",
       "0    2.281363 -7.723766  2.714832 -5.484510 -0.132036 -1.595268 -2.471070   \n",
       "1    2.121323 -1.699388  1.057814 -1.591032  0.134624 -0.391734 -2.183157   \n",
       "2    1.415074  4.546333  2.662465  1.619146 -1.696918  0.740744 -2.675854   \n",
       "3   -1.381832  2.080511 -0.362144  2.247193 -2.073514 -1.337430 -0.293574   \n",
       "4    0.382663 -0.370281 -1.425611 -0.347839  0.252554 -2.266020 -1.379550   \n",
       "\n",
       "     feat_504  feat_526  feat_639   ...    feat_701  feat_724  feat_736  \\\n",
       "_id                                 ...                                   \n",
       "0    3.052163 -2.941691  4.063693   ...    7.306688  2.522409 -3.659442   \n",
       "1    0.747105  0.304999  1.371453   ...    0.776931  2.126583 -1.507735   \n",
       "2   -1.896792  2.461117 -1.756148   ...   -5.638710  0.676838 -1.709226   \n",
       "3   -1.079409  1.860341 -2.603941   ...   -3.284469 -0.542681 -0.039577   \n",
       "4   -2.961905  1.344314 -1.465974   ...    0.118513  2.685094  0.376503   \n",
       "\n",
       "     feat_769  feat_808  feat_829  feat_867  feat_920  feat_956  target  \n",
       "_id                                                                      \n",
       "0    1.333602  1.103701  0.586460 -2.226438  1.503807  4.029951       0  \n",
       "1    1.199454 -0.620077  2.250227 -0.015265 -0.975844  1.588398       1  \n",
       "2    0.178925 -0.924365  3.118753  3.521908 -4.303822 -0.800297       1  \n",
       "3    0.869894  0.508969 -1.037677  2.104805 -0.941140 -2.426835       0  \n",
       "4    0.385132 -1.534524 -1.938277 -0.788077  1.947159 -1.075181       0  \n",
       "\n",
       "[5 rows x 21 columns]"
      ]
     },
     "execution_count": 3,
     "metadata": {},
     "output_type": "execute_result"
    }
   ],
   "source": [
    "df.head()"
   ]
  },
  {
   "cell_type": "code",
   "execution_count": 4,
   "metadata": {},
   "outputs": [
    {
     "data": {
      "text/plain": [
       "(6600, 21)"
      ]
     },
     "execution_count": 4,
     "metadata": {},
     "output_type": "execute_result"
    }
   ],
   "source": [
    "df.shape"
   ]
  },
  {
   "cell_type": "code",
   "execution_count": 5,
   "metadata": {
    "scrolled": false
   },
   "outputs": [],
   "source": [
    "predictors = df[df.columns[0:20]]\n",
    "target = df[df.columns[20]]"
   ]
  },
  {
   "cell_type": "code",
   "execution_count": 6,
   "metadata": {},
   "outputs": [],
   "source": [
    "X_train, X_test, y_train, y_test = train_test_split(predictors, target, test_size = .2, random_state = 42)"
   ]
  },
  {
   "cell_type": "markdown",
   "metadata": {},
   "source": [
    "Min Max Scaling (as contingency against 0's and negatives)"
   ]
  },
  {
   "cell_type": "code",
   "execution_count": 7,
   "metadata": {},
   "outputs": [],
   "source": [
    "min_max = MinMaxScaler(feature_range=(0.0001, 1))\n",
    "X_train_sc = pd.DataFrame(min_max.fit_transform(X_train))\n",
    "X_test_sc = pd.DataFrame(min_max.fit_transform(X_test))"
   ]
  },
  {
   "cell_type": "markdown",
   "metadata": {},
   "source": [
    "Deskewing"
   ]
  },
  {
   "cell_type": "code",
   "execution_count": 8,
   "metadata": {},
   "outputs": [],
   "source": [
    "def box_cox(train_df, test_df):\n",
    "    '''Input X_train and X_test to get those dataframes deskewed'''\n",
    "    X_train_bc = pd.DataFrame()\n",
    "    X_test_bc = pd.DataFrame()\n",
    "    for col in train_df.columns:\n",
    "        box_cox_train, lmbda = boxcox(train_df[col])\n",
    "        box_cox_test = boxcox(test_df[col], lmbda)\n",
    "        X_train_bc[col] = pd.Series(box_cox_train)\n",
    "        X_test_bc[col] = pd.Series(box_cox_test)\n",
    "    \n",
    "    return X_train_bc, X_test_bc"
   ]
  },
  {
   "cell_type": "code",
   "execution_count": 9,
   "metadata": {},
   "outputs": [],
   "source": [
    "X_train_bc, X_test_bc = box_cox(X_train_sc, X_test_sc)"
   ]
  },
  {
   "cell_type": "markdown",
   "metadata": {},
   "source": [
    "PCA"
   ]
  },
  {
   "cell_type": "code",
   "execution_count": 10,
   "metadata": {},
   "outputs": [],
   "source": [
    "pca = PCA(n_components = 5)\n",
    "X_train_comp = pca.fit_transform(X_train_bc)\n",
    "X_test_comp = pca.transform(X_test_bc)"
   ]
  },
  {
   "cell_type": "markdown",
   "metadata": {},
   "source": [
    "I could have put the standard scaler here and taken it out of pipelines"
   ]
  },
  {
   "cell_type": "markdown",
   "metadata": {},
   "source": [
    "### Logistic Regression ###"
   ]
  },
  {
   "cell_type": "code",
   "execution_count": 11,
   "metadata": {},
   "outputs": [],
   "source": [
    "scaler = StandardScaler()\n",
    "log_reg = LogisticRegression()\n",
    "pipe_log_reg = Pipeline([\n",
    "    ('scaler', scaler), \n",
    "    ('log_reg', log_reg)\n",
    "])"
   ]
  },
  {
   "cell_type": "code",
   "execution_count": 12,
   "metadata": {},
   "outputs": [],
   "source": [
    "log_reg_params = {\n",
    "    'log_reg__penalty' : ['l1', 'l2'],\n",
    "    'log_reg__C' : np.logspace(-10,-1,10)\n",
    "}"
   ]
  },
  {
   "cell_type": "code",
   "execution_count": 13,
   "metadata": {},
   "outputs": [],
   "source": [
    "grd_log_reg = GridSearchCV(pipe_log_reg, log_reg_params, cv = 5)"
   ]
  },
  {
   "cell_type": "code",
   "execution_count": 14,
   "metadata": {},
   "outputs": [
    {
     "data": {
      "text/plain": [
       "GridSearchCV(cv=5, error_score='raise',\n",
       "       estimator=Pipeline(steps=[('scaler', StandardScaler(copy=True, with_mean=True, with_std=True)), ('log_reg', LogisticRegression(C=1.0, class_weight=None, dual=False, fit_intercept=True,\n",
       "          intercept_scaling=1, max_iter=100, multi_class='ovr', n_jobs=1,\n",
       "          penalty='l2', random_state=None, solver='liblinear', tol=0.0001,\n",
       "          verbose=0, warm_start=False))]),\n",
       "       fit_params={}, iid=True, n_jobs=1,\n",
       "       param_grid={'log_reg__penalty': ['l1', 'l2'], 'log_reg__C': array([  1.00000e-10,   1.00000e-09,   1.00000e-08,   1.00000e-07,\n",
       "         1.00000e-06,   1.00000e-05,   1.00000e-04,   1.00000e-03,\n",
       "         1.00000e-02,   1.00000e-01])},\n",
       "       pre_dispatch='2*n_jobs', refit=True, return_train_score=True,\n",
       "       scoring=None, verbose=0)"
      ]
     },
     "execution_count": 14,
     "metadata": {},
     "output_type": "execute_result"
    }
   ],
   "source": [
    "grd_log_reg.fit(X_train_comp, y_train)"
   ]
  },
  {
   "cell_type": "code",
   "execution_count": 15,
   "metadata": {
    "scrolled": true
   },
   "outputs": [
    {
     "data": {
      "text/plain": [
       "{'log_reg__C': 0.10000000000000001, 'log_reg__penalty': 'l2'}"
      ]
     },
     "execution_count": 15,
     "metadata": {},
     "output_type": "execute_result"
    }
   ],
   "source": [
    "grd_log_reg.best_params_"
   ]
  },
  {
   "cell_type": "code",
   "execution_count": 16,
   "metadata": {
    "scrolled": false
   },
   "outputs": [
    {
     "data": {
      "text/plain": [
       "0.60643939393939394"
      ]
     },
     "execution_count": 16,
     "metadata": {},
     "output_type": "execute_result"
    }
   ],
   "source": [
    "grd_log_reg.score(X_train_comp, y_train)"
   ]
  },
  {
   "cell_type": "code",
   "execution_count": 17,
   "metadata": {
    "scrolled": true
   },
   "outputs": [
    {
     "data": {
      "text/plain": [
       "0.58863636363636362"
      ]
     },
     "execution_count": 17,
     "metadata": {},
     "output_type": "execute_result"
    }
   ],
   "source": [
    "grd_log_reg.score(X_test_comp, y_test)"
   ]
  },
  {
   "cell_type": "code",
   "execution_count": 18,
   "metadata": {
    "scrolled": true
   },
   "outputs": [
    {
     "name": "stdout",
     "output_type": "stream",
     "text": [
      "Accuracy Score: 0.588636363636\n"
     ]
    }
   ],
   "source": [
    "print(\"Accuracy Score:\", accuracy_score(y_test, grd_log_reg.predict(X_test_comp)))"
   ]
  },
  {
   "cell_type": "code",
   "execution_count": 19,
   "metadata": {
    "scrolled": false
   },
   "outputs": [
    {
     "name": "stdout",
     "output_type": "stream",
     "text": [
      "ROC AUC Score: 0.58848336532\n"
     ]
    }
   ],
   "source": [
    "print(\"ROC AUC Score:\", roc_auc_score(y_test, grd_log_reg.predict(X_test_comp)))"
   ]
  },
  {
   "cell_type": "code",
   "execution_count": 20,
   "metadata": {
    "scrolled": false
   },
   "outputs": [
    {
     "name": "stdout",
     "output_type": "stream",
     "text": [
      "Log Loss: 14.2081808031\n"
     ]
    }
   ],
   "source": [
    "print(\"Log Loss:\", log_loss(y_test, grd_log_reg.predict(X_test_comp)))"
   ]
  },
  {
   "cell_type": "markdown",
   "metadata": {},
   "source": [
    "*Accuracy Score:* 0.589\n",
    "\n",
    "*ROC AUC Score:* 0.588\n",
    "\n",
    "*Log Loss:* 14.208"
   ]
  },
  {
   "cell_type": "markdown",
   "metadata": {},
   "source": [
    "**Results:** The data isn't linear, so this model doesn't perform well."
   ]
  },
  {
   "cell_type": "markdown",
   "metadata": {},
   "source": [
    "### Decision Tree "
   ]
  },
  {
   "cell_type": "code",
   "execution_count": 21,
   "metadata": {},
   "outputs": [],
   "source": [
    "scaler = StandardScaler()\n",
    "dt_clf = DecisionTreeClassifier()\n",
    "pipe_dt_clf = Pipeline([\n",
    "    ('scaler', scaler), \n",
    "    ('dt_clf', dt_clf)\n",
    "])"
   ]
  },
  {
   "cell_type": "code",
   "execution_count": 22,
   "metadata": {},
   "outputs": [],
   "source": [
    "dt_clf_params = {\n",
    "    'dt_clf__criterion' : ['gini', 'entropy'],\n",
    "    'dt_clf__min_samples_split' : range(2,11)\n",
    "}"
   ]
  },
  {
   "cell_type": "code",
   "execution_count": 23,
   "metadata": {},
   "outputs": [],
   "source": [
    "grd_dt_clf = GridSearchCV(pipe_dt_clf, dt_clf_params, cv = 5)"
   ]
  },
  {
   "cell_type": "code",
   "execution_count": 24,
   "metadata": {
    "scrolled": true
   },
   "outputs": [
    {
     "data": {
      "text/plain": [
       "GridSearchCV(cv=5, error_score='raise',\n",
       "       estimator=Pipeline(steps=[('scaler', StandardScaler(copy=True, with_mean=True, with_std=True)), ('dt_clf', DecisionTreeClassifier(class_weight=None, criterion='gini', max_depth=None,\n",
       "            max_features=None, max_leaf_nodes=None,\n",
       "            min_impurity_split=1e-07, min_samples_leaf=1,\n",
       "            min_samples_split=2, min_weight_fraction_leaf=0.0,\n",
       "            presort=False, random_state=None, splitter='best'))]),\n",
       "       fit_params={}, iid=True, n_jobs=1,\n",
       "       param_grid={'dt_clf__criterion': ['gini', 'entropy'], 'dt_clf__min_samples_split': range(2, 11)},\n",
       "       pre_dispatch='2*n_jobs', refit=True, return_train_score=True,\n",
       "       scoring=None, verbose=0)"
      ]
     },
     "execution_count": 24,
     "metadata": {},
     "output_type": "execute_result"
    }
   ],
   "source": [
    "grd_dt_clf.fit(X_train_comp, y_train)"
   ]
  },
  {
   "cell_type": "code",
   "execution_count": 25,
   "metadata": {
    "scrolled": true
   },
   "outputs": [
    {
     "data": {
      "text/plain": [
       "{'dt_clf__criterion': 'gini', 'dt_clf__min_samples_split': 4}"
      ]
     },
     "execution_count": 25,
     "metadata": {},
     "output_type": "execute_result"
    }
   ],
   "source": [
    "grd_dt_clf.best_params_"
   ]
  },
  {
   "cell_type": "code",
   "execution_count": 26,
   "metadata": {
    "scrolled": false
   },
   "outputs": [
    {
     "data": {
      "text/plain": [
       "0.98030303030303034"
      ]
     },
     "execution_count": 26,
     "metadata": {},
     "output_type": "execute_result"
    }
   ],
   "source": [
    "grd_dt_clf.score(X_train_comp, y_train)"
   ]
  },
  {
   "cell_type": "code",
   "execution_count": 27,
   "metadata": {
    "scrolled": true
   },
   "outputs": [
    {
     "data": {
      "text/plain": [
       "0.65833333333333333"
      ]
     },
     "execution_count": 27,
     "metadata": {},
     "output_type": "execute_result"
    }
   ],
   "source": [
    "grd_dt_clf.score(X_test_comp, y_test)"
   ]
  },
  {
   "cell_type": "code",
   "execution_count": 28,
   "metadata": {
    "scrolled": true
   },
   "outputs": [
    {
     "name": "stdout",
     "output_type": "stream",
     "text": [
      "Accuracy Score: 0.658333333333\n"
     ]
    }
   ],
   "source": [
    "print(\"Accuracy Score:\", accuracy_score(y_test, grd_dt_clf.predict(X_test_comp)))"
   ]
  },
  {
   "cell_type": "code",
   "execution_count": 29,
   "metadata": {
    "scrolled": true
   },
   "outputs": [
    {
     "name": "stdout",
     "output_type": "stream",
     "text": [
      "ROC AUC Score: 0.658314125933\n"
     ]
    }
   ],
   "source": [
    "print(\"ROC AUC Score:\", roc_auc_score(y_test, grd_dt_clf.predict(X_test_comp)))"
   ]
  },
  {
   "cell_type": "code",
   "execution_count": 30,
   "metadata": {
    "scrolled": false
   },
   "outputs": [
    {
     "name": "stdout",
     "output_type": "stream",
     "text": [
      "Log Loss: 11.8008873196\n"
     ]
    }
   ],
   "source": [
    "print(\"Log Loss:\", log_loss(y_test, grd_dt_clf.predict(X_test_comp)))"
   ]
  },
  {
   "cell_type": "markdown",
   "metadata": {},
   "source": [
    "*Accuracy Score:* 0.658\n",
    "\n",
    "*ROC AUC Score:* 0.658\n",
    "\n",
    "*Log Loss:* 11.800"
   ]
  },
  {
   "cell_type": "markdown",
   "metadata": {},
   "source": [
    "### K Nearest Neighbors "
   ]
  },
  {
   "cell_type": "code",
   "execution_count": 31,
   "metadata": {},
   "outputs": [],
   "source": [
    "scaler = StandardScaler()\n",
    "knn = KNeighborsClassifier()\n",
    "pipe_knn = Pipeline([\n",
    "    ('scaler', scaler), \n",
    "    ('knn', knn)\n",
    "])"
   ]
  },
  {
   "cell_type": "code",
   "execution_count": 32,
   "metadata": {},
   "outputs": [],
   "source": [
    "knn_params = {\n",
    "    'knn__n_neighbors' : range(1,11),\n",
    "    'knn__weights' : ['uniform', 'distance'],\n",
    "    'knn__leaf_size' : [2, 5, 10, 15, 20, 25, 30, 35]\n",
    "}"
   ]
  },
  {
   "cell_type": "code",
   "execution_count": 33,
   "metadata": {},
   "outputs": [],
   "source": [
    "grd_knn = GridSearchCV(pipe_knn, knn_params, cv = 5)"
   ]
  },
  {
   "cell_type": "code",
   "execution_count": 34,
   "metadata": {},
   "outputs": [
    {
     "data": {
      "text/plain": [
       "GridSearchCV(cv=5, error_score='raise',\n",
       "       estimator=Pipeline(steps=[('scaler', StandardScaler(copy=True, with_mean=True, with_std=True)), ('knn', KNeighborsClassifier(algorithm='auto', leaf_size=30, metric='minkowski',\n",
       "           metric_params=None, n_jobs=1, n_neighbors=5, p=2,\n",
       "           weights='uniform'))]),\n",
       "       fit_params={}, iid=True, n_jobs=1,\n",
       "       param_grid={'knn__n_neighbors': range(1, 11), 'knn__weights': ['uniform', 'distance'], 'knn__leaf_size': [2, 5, 10, 15, 20, 25, 30, 35]},\n",
       "       pre_dispatch='2*n_jobs', refit=True, return_train_score=True,\n",
       "       scoring=None, verbose=0)"
      ]
     },
     "execution_count": 34,
     "metadata": {},
     "output_type": "execute_result"
    }
   ],
   "source": [
    "grd_knn.fit(X_train_comp, y_train)"
   ]
  },
  {
   "cell_type": "code",
   "execution_count": 35,
   "metadata": {
    "scrolled": true
   },
   "outputs": [
    {
     "data": {
      "text/plain": [
       "{'knn__leaf_size': 2, 'knn__n_neighbors': 10, 'knn__weights': 'distance'}"
      ]
     },
     "execution_count": 35,
     "metadata": {},
     "output_type": "execute_result"
    }
   ],
   "source": [
    "grd_knn.best_params_"
   ]
  },
  {
   "cell_type": "code",
   "execution_count": 36,
   "metadata": {
    "scrolled": false
   },
   "outputs": [
    {
     "data": {
      "text/plain": [
       "1.0"
      ]
     },
     "execution_count": 36,
     "metadata": {},
     "output_type": "execute_result"
    }
   ],
   "source": [
    "grd_knn.score(X_train_comp, y_train)"
   ]
  },
  {
   "cell_type": "code",
   "execution_count": 37,
   "metadata": {
    "scrolled": true
   },
   "outputs": [
    {
     "data": {
      "text/plain": [
       "0.7439393939393939"
      ]
     },
     "execution_count": 37,
     "metadata": {},
     "output_type": "execute_result"
    }
   ],
   "source": [
    "grd_knn.score(X_test_comp, y_test)"
   ]
  },
  {
   "cell_type": "code",
   "execution_count": 38,
   "metadata": {
    "scrolled": true
   },
   "outputs": [
    {
     "name": "stdout",
     "output_type": "stream",
     "text": [
      "Accuracy Score: 0.743939393939\n"
     ]
    }
   ],
   "source": [
    "print(\"Accuracy Score:\", accuracy_score(y_test, grd_knn.predict(X_test_comp)))"
   ]
  },
  {
   "cell_type": "code",
   "execution_count": 39,
   "metadata": {
    "scrolled": true
   },
   "outputs": [
    {
     "name": "stdout",
     "output_type": "stream",
     "text": [
      "ROC AUC Score: 0.743914085529\n"
     ]
    }
   ],
   "source": [
    "print(\"ROC AUC Score:\", roc_auc_score(y_test, grd_knn.predict(X_test_comp)))"
   ]
  },
  {
   "cell_type": "code",
   "execution_count": 40,
   "metadata": {
    "scrolled": false
   },
   "outputs": [
    {
     "name": "stdout",
     "output_type": "stream",
     "text": [
      "Log Loss: 8.84412541775\n"
     ]
    }
   ],
   "source": [
    "print(\"Log Loss:\", log_loss(y_test, grd_knn.predict(X_test_comp)))"
   ]
  },
  {
   "cell_type": "markdown",
   "metadata": {},
   "source": [
    "*Accuracy Score:* 0.744\n",
    "\n",
    "*ROC AUC Score:* 0.744\n",
    "\n",
    "*Log Loss:* 8.844"
   ]
  },
  {
   "cell_type": "markdown",
   "metadata": {},
   "source": [
    "### Support Vector Classifier "
   ]
  },
  {
   "cell_type": "code",
   "execution_count": 41,
   "metadata": {},
   "outputs": [],
   "source": [
    "scaler = StandardScaler()\n",
    "svc = SVC()\n",
    "pipe_svc = Pipeline([\n",
    "    ('scaler', scaler), \n",
    "    ('svc', svc)\n",
    "])"
   ]
  },
  {
   "cell_type": "code",
   "execution_count": 42,
   "metadata": {},
   "outputs": [],
   "source": [
    "svc_params = {\n",
    "    'svc__C' : np.logspace(-10,-1,10),\n",
    "    'svc__kernel' : ['rbf', 'linear', 'poly']\n",
    "}"
   ]
  },
  {
   "cell_type": "code",
   "execution_count": 43,
   "metadata": {},
   "outputs": [],
   "source": [
    "grd_svc = GridSearchCV(pipe_svc, svc_params, cv = 5)"
   ]
  },
  {
   "cell_type": "code",
   "execution_count": 44,
   "metadata": {},
   "outputs": [
    {
     "data": {
      "text/plain": [
       "GridSearchCV(cv=5, error_score='raise',\n",
       "       estimator=Pipeline(steps=[('scaler', StandardScaler(copy=True, with_mean=True, with_std=True)), ('svc', SVC(C=1.0, cache_size=200, class_weight=None, coef0=0.0,\n",
       "  decision_function_shape=None, degree=3, gamma='auto', kernel='rbf',\n",
       "  max_iter=-1, probability=False, random_state=None, shrinking=True,\n",
       "  tol=0.001, verbose=False))]),\n",
       "       fit_params={}, iid=True, n_jobs=1,\n",
       "       param_grid={'svc__C': array([  1.00000e-10,   1.00000e-09,   1.00000e-08,   1.00000e-07,\n",
       "         1.00000e-06,   1.00000e-05,   1.00000e-04,   1.00000e-03,\n",
       "         1.00000e-02,   1.00000e-01]), 'svc__kernel': ['rbf', 'linear', 'poly']},\n",
       "       pre_dispatch='2*n_jobs', refit=True, return_train_score=True,\n",
       "       scoring=None, verbose=0)"
      ]
     },
     "execution_count": 44,
     "metadata": {},
     "output_type": "execute_result"
    }
   ],
   "source": [
    "grd_svc.fit(X_train_comp, y_train)"
   ]
  },
  {
   "cell_type": "code",
   "execution_count": 45,
   "metadata": {
    "scrolled": true
   },
   "outputs": [
    {
     "data": {
      "text/plain": [
       "{'svc__C': 0.10000000000000001, 'svc__kernel': 'rbf'}"
      ]
     },
     "execution_count": 45,
     "metadata": {},
     "output_type": "execute_result"
    }
   ],
   "source": [
    "grd_svc.best_params_"
   ]
  },
  {
   "cell_type": "code",
   "execution_count": 46,
   "metadata": {
    "scrolled": false
   },
   "outputs": [
    {
     "data": {
      "text/plain": [
       "0.72840909090909089"
      ]
     },
     "execution_count": 46,
     "metadata": {},
     "output_type": "execute_result"
    }
   ],
   "source": [
    "grd_svc.score(X_train_comp, y_train)"
   ]
  },
  {
   "cell_type": "code",
   "execution_count": 47,
   "metadata": {
    "scrolled": true
   },
   "outputs": [
    {
     "data": {
      "text/plain": [
       "0.71136363636363631"
      ]
     },
     "execution_count": 47,
     "metadata": {},
     "output_type": "execute_result"
    }
   ],
   "source": [
    "grd_svc.score(X_test_comp, y_test)"
   ]
  },
  {
   "cell_type": "code",
   "execution_count": 48,
   "metadata": {
    "scrolled": true
   },
   "outputs": [
    {
     "name": "stdout",
     "output_type": "stream",
     "text": [
      "Accuracy Score: 0.711363636364\n"
     ]
    }
   ],
   "source": [
    "print(\"Accuracy Score:\", accuracy_score(y_test, grd_svc.predict(X_test_comp)))"
   ]
  },
  {
   "cell_type": "code",
   "execution_count": 49,
   "metadata": {
    "scrolled": true
   },
   "outputs": [
    {
     "name": "stdout",
     "output_type": "stream",
     "text": [
      "ROC AUC Score: 0.711129119643\n"
     ]
    }
   ],
   "source": [
    "print(\"ROC AUC Score:\", roc_auc_score(y_test, grd_svc.predict(X_test_comp)))"
   ]
  },
  {
   "cell_type": "code",
   "execution_count": 50,
   "metadata": {
    "scrolled": false
   },
   "outputs": [
    {
     "name": "stdout",
     "output_type": "stream",
     "text": [
      "Log Loss: 9.96929281018\n"
     ]
    }
   ],
   "source": [
    "print(\"Log Loss:\", log_loss(y_test, grd_svc.predict(X_test_comp)))"
   ]
  },
  {
   "cell_type": "markdown",
   "metadata": {},
   "source": [
    "*Accuracy Score:* 0.711\n",
    "\n",
    "*ROC AUC Score:* 0.711\n",
    "\n",
    "*Log Loss:* 9.969"
   ]
  },
  {
   "cell_type": "code",
   "execution_count": null,
   "metadata": {
    "collapsed": true
   },
   "outputs": [],
   "source": []
  }
 ],
 "metadata": {
  "kernelspec": {
   "display_name": "Python 3",
   "language": "python",
   "name": "python3"
  },
  "language_info": {
   "codemirror_mode": {
    "name": "ipython",
    "version": 3
   },
   "file_extension": ".py",
   "mimetype": "text/x-python",
   "name": "python",
   "nbconvert_exporter": "python",
   "pygments_lexer": "ipython3",
   "version": "3.6.2"
  }
 },
 "nbformat": 4,
 "nbformat_minor": 2
}
